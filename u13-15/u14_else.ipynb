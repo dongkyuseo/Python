{
 "cells": [
  {
   "cell_type": "markdown",
   "source": [
    "# Unit 14. else 사용하기\r\n",
    "- if 와 연관해서만 사용 가능"
   ],
   "metadata": {}
  },
  {
   "cell_type": "code",
   "execution_count": 1,
   "source": [
    "x = 5\r\n",
    "if x == 10:\r\n",
    "    print('It is 10.')\r\n",
    "else:\r\n",
    "    print('It is not 10.')"
   ],
   "outputs": [
    {
     "output_type": "stream",
     "name": "stdout",
     "text": [
      "It is not 10.\n"
     ]
    }
   ],
   "metadata": {}
  },
  {
   "cell_type": "markdown",
   "source": [
    "### 3항 연산자\r\n",
    "\r\n",
    "- Java : a = (조건) ? 참일 때의 값 : 거짓일때의 값\r\n",
    "- Python : a = 참일때의 값 if 조건 else 거짓일때의 값"
   ],
   "metadata": {}
  },
  {
   "cell_type": "code",
   "execution_count": 2,
   "source": [
    "x = 1\r\n",
    "if x % 2 == 0:\r\n",
    "    y = 'even'\r\n",
    "else:\r\n",
    "    y = 'odd'\r\n",
    "y"
   ],
   "outputs": [
    {
     "output_type": "execute_result",
     "data": {
      "text/plain": [
       "'odd'"
      ]
     },
     "metadata": {},
     "execution_count": 2
    }
   ],
   "metadata": {}
  },
  {
   "cell_type": "code",
   "execution_count": 4,
   "source": [
    "y = 'even' if x % 2 == 0 else 'odd'\r\n",
    "y"
   ],
   "outputs": [
    {
     "output_type": "execute_result",
     "data": {
      "text/plain": [
       "'odd'"
      ]
     },
     "metadata": {},
     "execution_count": 4
    }
   ],
   "metadata": {}
  },
  {
   "cell_type": "code",
   "execution_count": 12,
   "source": [
    "# 90점 이상이면 'A', 89 ~ 80: 'B', 70 ~ 79 : C, 60 ~ 69 : D, 59 ~ : F\r\n",
    "\r\n",
    "score = int(input('점수를 입력하세요> '))\r\n",
    "\r\n",
    "if score >= 90:\r\n",
    "    print('A')\r\n",
    "if 90> score >= 80:\r\n",
    "    print('B')\r\n",
    "if 80> score >=70:\r\n",
    "    print('C')\r\n",
    "if 70 > score >= 60:\r\n",
    "    print('D')\r\n",
    "if score < 60:\r\n",
    "    print('F')"
   ],
   "outputs": [
    {
     "output_type": "stream",
     "name": "stdout",
     "text": [
      "F\n"
     ]
    }
   ],
   "metadata": {}
  },
  {
   "cell_type": "code",
   "execution_count": 13,
   "source": [
    "score = int(input('점수를 입력하세요> '))\r\n",
    "\r\n",
    "if score >= 90:\r\n",
    "    print('A')\r\n",
    "else:\r\n",
    "    if score >= 80:\r\n",
    "        print('B')\r\n",
    "    else:\r\n",
    "        if score >= 70:\r\n",
    "            print('C')\r\n",
    "        else:\r\n",
    "            if score >= 60:\r\n",
    "                print('D')\r\n",
    "            else:\r\n",
    "                print('F')"
   ],
   "outputs": [
    {
     "output_type": "stream",
     "name": "stdout",
     "text": [
      "F\n"
     ]
    }
   ],
   "metadata": {}
  },
  {
   "cell_type": "code",
   "execution_count": 16,
   "source": [
    "score = int(input('점수를 입력하세요> '))\r\n",
    "\r\n",
    "grade = 'A' if score >= 90 else \\\r\n",
    "            'B' if score >= 80 else\\\r\n",
    "                'C' if score >= 70 else\\\r\n",
    "                    'D' if score >= 60 else 'F'\r\n",
    "print(grade)"
   ],
   "outputs": [
    {
     "output_type": "stream",
     "name": "stdout",
     "text": [
      "F\n"
     ]
    }
   ],
   "metadata": {}
  },
  {
   "cell_type": "code",
   "execution_count": null,
   "source": [],
   "outputs": [],
   "metadata": {}
  }
 ],
 "metadata": {
  "orig_nbformat": 4,
  "language_info": {
   "name": "python",
   "version": "3.8.10",
   "mimetype": "text/x-python",
   "codemirror_mode": {
    "name": "ipython",
    "version": 3
   },
   "pygments_lexer": "ipython3",
   "nbconvert_exporter": "python",
   "file_extension": ".py"
  },
  "kernelspec": {
   "name": "python3",
   "display_name": "Python 3.8.10 64-bit ('base': conda)"
  },
  "interpreter": {
   "hash": "20e1214a8bdb2e2c2b34d6c87bb951f9c9d2bc9eb3a38bf18f3ccb00b0b17c39"
  }
 },
 "nbformat": 4,
 "nbformat_minor": 2
}