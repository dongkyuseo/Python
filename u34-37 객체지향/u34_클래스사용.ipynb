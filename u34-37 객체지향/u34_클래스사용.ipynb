{
 "cells": [
  {
   "cell_type": "markdown",
   "source": [
    "# Unit 34. 클래스 사용하기\r\n",
    "\r\n",
    "- 객체지향 프로그램 특징\r\n",
    "1. 캡슐화(encapsulation) : 사용자가 값을 변경하기 위해 통제된 수단을 통해서만 변경 가능, 속성값을 보호하기 위함\r\n",
    "2. 상속(inheritance) : 부모기능을 자식이 상속 받음\r\n",
    "3. 다형성(polymoriphism) \r\n",
    "- overriding : 기능을 다양하게 변경함\r\n",
    "- overloding"
   ],
   "metadata": {}
  },
  {
   "cell_type": "markdown",
   "source": [
    "## 34.1 클래스와 메서드 만들기"
   ],
   "metadata": {}
  },
  {
   "cell_type": "code",
   "execution_count": null,
   "source": [
    "class Person:       # 클래스명은 대문자로 시작\r\n",
    "    def greeting(slef):\r\n",
    "        print('Hello')\r\n",
    "\r\n"
   ],
   "outputs": [],
   "metadata": {}
  },
  {
   "cell_type": "code",
   "execution_count": null,
   "source": [
    "# 인스턴스를 만들어야 클래스 사용 가능\r\n",
    "james = Person()\r\n",
    "maria = Person()"
   ],
   "outputs": [],
   "metadata": {}
  },
  {
   "cell_type": "code",
   "execution_count": null,
   "source": [
    "james.greeting()\r\n",
    "maria.greeting()"
   ],
   "outputs": [],
   "metadata": {}
  },
  {
   "cell_type": "code",
   "execution_count": null,
   "source": [
    "Person().greeting()"
   ],
   "outputs": [],
   "metadata": {}
  },
  {
   "cell_type": "code",
   "execution_count": null,
   "source": [
    "a = 10\r\n",
    "type(a)"
   ],
   "outputs": [],
   "metadata": {}
  },
  {
   "cell_type": "code",
   "execution_count": null,
   "source": [
    "# 클래스 내에서 메서드호출하기\r\n",
    "class Person:\r\n",
    "    def greeting(self):\r\n",
    "        print('Hello')\r\n",
    "\r\n",
    "    def hello(self):\r\n",
    "        self.greeting()\r\n",
    "\r\n"
   ],
   "outputs": [],
   "metadata": {}
  },
  {
   "cell_type": "code",
   "execution_count": null,
   "source": [
    "james = Person()\r\n",
    "james.hello()"
   ],
   "outputs": [],
   "metadata": {}
  },
  {
   "cell_type": "code",
   "execution_count": null,
   "source": [
    "# 상속 여부 확인\r\n",
    "isinstance(james, Person)"
   ],
   "outputs": [],
   "metadata": {}
  },
  {
   "cell_type": "code",
   "execution_count": null,
   "source": [
    "def factorial(n):\r\n",
    "    if not isinstance(n, int) or n < 0:    # n이 정수가 아니거나 음수이면 함수를 끝냄\r\n",
    "        return None\r\n",
    "    if n == 1:\r\n",
    "        return 1\r\n",
    "    return n * factorial(n - 1)"
   ],
   "outputs": [],
   "metadata": {}
  },
  {
   "cell_type": "code",
   "execution_count": null,
   "source": [
    "factorial(3.14)"
   ],
   "outputs": [],
   "metadata": {}
  },
  {
   "cell_type": "code",
   "execution_count": null,
   "source": [
    "factorial(6)"
   ],
   "outputs": [],
   "metadata": {}
  },
  {
   "cell_type": "markdown",
   "source": [
    "## 34.2 속성(attribute)"
   ],
   "metadata": {}
  },
  {
   "cell_type": "code",
   "execution_count": null,
   "source": [
    "class Person:\r\n",
    "    def __init__(self):\r\n",
    "        self.hello = 'Hello!'\r\n",
    "\r\n",
    "    def greeting(self):\r\n",
    "        print(self.hello)"
   ],
   "outputs": [],
   "metadata": {}
  },
  {
   "cell_type": "code",
   "execution_count": null,
   "source": [
    "james = Person()\r\n",
    "james.greeting()"
   ],
   "outputs": [],
   "metadata": {}
  },
  {
   "cell_type": "code",
   "execution_count": null,
   "source": [
    "james.hello = 'How are you?'\r\n",
    "james.greeting()"
   ],
   "outputs": [],
   "metadata": {}
  },
  {
   "cell_type": "code",
   "execution_count": null,
   "source": [
    "type(james)"
   ],
   "outputs": [],
   "metadata": {}
  },
  {
   "cell_type": "code",
   "execution_count": null,
   "source": [
    "class Person:\r\n",
    "    def __init__(self, hello):      # Constructor \r\n",
    "        self.hello = hello\r\n",
    "\r\n",
    "    def greeting(self):\r\n",
    "        print(self.hello)\r\n",
    "\r\n"
   ],
   "outputs": [],
   "metadata": {}
  },
  {
   "cell_type": "code",
   "execution_count": null,
   "source": [
    "james = Person('안녕하세요?')\r\n",
    "maria = Person('How are you?')\r\n",
    "\r\n",
    "james.greeting()\r\n",
    "maria.greeting()"
   ],
   "outputs": [],
   "metadata": {}
  },
  {
   "cell_type": "code",
   "execution_count": null,
   "source": [
    "class Person:\r\n",
    "    def __init__(self, name, age, addr = '비공개'):     #*args, **kwargs 지정가능\r\n",
    "        self.hello = '안녕하세요?'\r\n",
    "        self.name = name\r\n",
    "        self.age = age\r\n",
    "        self.addr = addr\r\n",
    "\r\n",
    "    def greeting(self):\r\n",
    "        print(f'{self.hello} 저는 {self.name}입니다.')\r\n",
    "\r\n",
    "        # JAVA의 toString() method \r\n",
    "    def __str__(self):\r\n",
    "        return f'hello: {self.hello}, name: {self.name}, age: {self.age}, addr: {self.addr}'\r\n",
    "\r\n"
   ],
   "outputs": [],
   "metadata": {}
  },
  {
   "cell_type": "code",
   "execution_count": null,
   "source": [
    "maria = Person('마리아', 23, '서울시 강남구 도곡동')\r\n",
    "maria.greeting()"
   ],
   "outputs": [],
   "metadata": {}
  },
  {
   "cell_type": "code",
   "execution_count": null,
   "source": [
    "james = Person('제임스', 23)\r\n",
    "james.greeting()"
   ],
   "outputs": [],
   "metadata": {}
  },
  {
   "cell_type": "code",
   "execution_count": null,
   "source": [
    "print(maria)"
   ],
   "outputs": [],
   "metadata": {}
  },
  {
   "cell_type": "code",
   "execution_count": null,
   "source": [
    "print(james)"
   ],
   "outputs": [],
   "metadata": {}
  },
  {
   "cell_type": "markdown",
   "source": [
    "## 34.3 비공개 속성 사용"
   ],
   "metadata": {}
  },
  {
   "cell_type": "code",
   "execution_count": null,
   "source": [
    "maria.age = 30\r\n",
    "print(maria)"
   ],
   "outputs": [],
   "metadata": {}
  },
  {
   "cell_type": "code",
   "execution_count": null,
   "source": [
    "class Person:\r\n",
    "    def __init__(self, name, age, addr, wallet):     #*args, **kwargs 지정가능\r\n",
    "        self.hello = '안녕하세요?'\r\n",
    "        self.name = name\r\n",
    "        self.age = age\r\n",
    "        self.addr = addr\r\n",
    "        self.__wallet = wallet      #wallet 속성 비공개\r\n",
    "\r\n",
    "    def pay(self, amount):\r\n",
    "        if self.__wallet - amount < 0:\r\n",
    "            print('지갑에 돈이 부족합니다.')\r\n",
    "            return\r\n",
    "        self.__wallet -= amount\r\n",
    "        print(f'지갑에 남은 돈은 {self.__wallet}입니다.')\r\n",
    "\r\n",
    "\r\n",
    "\r\n",
    "    def greeting(self):\r\n",
    "        print(f'{self.hello} 저는 {self.name}입니다.')\r\n",
    "\r\n",
    "        # JAVA의 toString() method \r\n",
    "    def __str__(self):\r\n",
    "        return f'hello: {self.hello}, name: {self.name}, age: {self.age}, addr: {self.addr}, wallet: {self.__wallet}'\r\n",
    "\r\n"
   ],
   "outputs": [],
   "metadata": {}
  },
  {
   "cell_type": "code",
   "execution_count": null,
   "source": [
    "james = Person('제임스', 27, '서울', 10000)\r\n",
    "print(james)"
   ],
   "outputs": [],
   "metadata": {}
  },
  {
   "cell_type": "code",
   "execution_count": null,
   "source": [
    "james.greeting()"
   ],
   "outputs": [],
   "metadata": {}
  },
  {
   "cell_type": "code",
   "execution_count": null,
   "source": [
    "# james.wallet()"
   ],
   "outputs": [],
   "metadata": {}
  },
  {
   "cell_type": "code",
   "execution_count": null,
   "source": [
    "# wallet은 비공개 속성으로 클래스 밖에서 수정 불가\r\n",
    "james.__wallet = 1000000"
   ],
   "outputs": [],
   "metadata": {}
  },
  {
   "cell_type": "code",
   "execution_count": null,
   "source": [
    "print(james)"
   ],
   "outputs": [],
   "metadata": {}
  },
  {
   "cell_type": "code",
   "execution_count": null,
   "source": [
    "james.pay(5000)"
   ],
   "outputs": [],
   "metadata": {}
  },
  {
   "cell_type": "markdown",
   "source": [
    "### Quiz\r\n",
    "- Account Class 생성\r\n",
    "1. ano : 문자열 6글자, '123456'\r\n",
    "2. owner : 문자열\r\n",
    "3. balance : 잔액, 비공개 속성\r\n",
    "4. 생성자\r\n",
    "5. deposit(amount)      1000만원 이상은 입금 불가\r\n",
    "6. withdraw(amoun)      잔액이 0원 미만이면 출금할 수 없음\r\n",
    "7. 출력 가능하도록"
   ],
   "metadata": {}
  },
  {
   "cell_type": "code",
   "execution_count": null,
   "source": [
    "class Account:\r\n",
    "    def __init__(self, ano, owner, balance):\r\n",
    "        self.ano = ano\r\n",
    "        self.owner = owner\r\n",
    "        self.__balance = balance\r\n",
    "\r\n",
    "    def deposit(self, amount):\r\n",
    "        if amount + self.__balance > 10000000 :\r\n",
    "            print('1000만원 이상은 잔액으로 가져갈 수 없습니다.')\r\n",
    "            return\r\n",
    "        self.__balance += amount\r\n",
    "        print(f'현재 잔액은 {self.__balance:,d}원 입니다.')\r\n",
    "\r\n",
    "    def withdraw(self, amount):\r\n",
    "        if self.__balance < 0 or self.__balance < amount:       #self.__balance - amount < 0:\r\n",
    "            print('잔액이 부족합니다.')\r\n",
    "            return\r\n",
    "        self.__balance -= amount\r\n",
    "        print(f'{amount}원이 출금되었습니다. 잔액은 {self.__balance}원 입니다.')\r\n",
    "\r\n",
    "    def __str__(self):\r\n",
    "        return f'계좌번호 : {self.ano}, 소유주: {self.owner}, 잔액: {self.__balance:9,d}'"
   ],
   "outputs": [],
   "metadata": {}
  },
  {
   "cell_type": "code",
   "execution_count": null,
   "source": [
    "jack = Account('123456', '잭', 10000)"
   ],
   "outputs": [],
   "metadata": {}
  },
  {
   "cell_type": "code",
   "execution_count": null,
   "source": [
    "print(jack)"
   ],
   "outputs": [],
   "metadata": {}
  },
  {
   "cell_type": "code",
   "execution_count": null,
   "source": [
    "jack.deposit(100000000)"
   ],
   "outputs": [],
   "metadata": {}
  },
  {
   "cell_type": "code",
   "execution_count": null,
   "source": [
    "jack.deposit(1000000)"
   ],
   "outputs": [],
   "metadata": {}
  },
  {
   "cell_type": "code",
   "execution_count": null,
   "source": [
    "jack.withdraw(10000000)"
   ],
   "outputs": [],
   "metadata": {}
  },
  {
   "cell_type": "code",
   "execution_count": null,
   "source": [
    "jack.withdraw(100000)"
   ],
   "outputs": [],
   "metadata": {}
  },
  {
   "cell_type": "code",
   "execution_count": null,
   "source": [
    "print(jack)"
   ],
   "outputs": [],
   "metadata": {}
  },
  {
   "cell_type": "code",
   "execution_count": null,
   "source": [
    "acc2 = Account('987432', '마리아', 3000000)\r\n",
    "print(acc2)"
   ],
   "outputs": [],
   "metadata": {}
  },
  {
   "cell_type": "code",
   "execution_count": null,
   "source": [
    "acc_list = [jack, acc2]"
   ],
   "outputs": [],
   "metadata": {}
  },
  {
   "cell_type": "code",
   "execution_count": null,
   "source": [
    "for account in acc_list:\r\n",
    "    print(account)"
   ],
   "outputs": [],
   "metadata": {}
  },
  {
   "cell_type": "markdown",
   "source": [
    "### 1: 계좌생성, 2:계좌목록, 3:입금, 4:출금, 5:종료\r\n",
    "\r\n",
    "- 계좌생성; 계좌번호 소유주 확인 0원\r\n",
    "- 계좌목록; 계좌 목록 리스트 프린트\r\n",
    "- 입금,출금; 계좌정보 입금액"
   ],
   "metadata": {}
  },
  {
   "cell_type": "code",
   "execution_count": null,
   "source": [
    "\r\n",
    "class Account:\r\n",
    "    def __init__(self, ano, owner, balance):\r\n",
    "        self.ano = ano\r\n",
    "        self.owner = owner\r\n",
    "        self.__balance = balance\r\n",
    "\r\n",
    "    def deposit(self, amount):\r\n",
    "        if amount + self.__balance > 10000000 :\r\n",
    "            print('1000만원 이상은 잔액으로 가져갈 수 없습니다.')\r\n",
    "            return\r\n",
    "        self.__balance += amount\r\n",
    "        print(f'현재 잔액은 {self.__balance:,d}원 입니다.')\r\n",
    "\r\n",
    "    def withdraw(self, amount):\r\n",
    "        if self.__balance < 0 or self.__balance < amount:       #self.__balance - amount < 0:\r\n",
    "            print('잔액이 부족합니다.')\r\n",
    "            return\r\n",
    "        self.__balance -= amount\r\n",
    "        print(f'{amount}원이 출금되었습니다. 잔액은 {self.__balance}원 입니다.')\r\n",
    "\r\n",
    "    def __str__(self):\r\n",
    "        return f'계좌번호 : {self.ano}, 소유주: {self.owner}, 잔액: {self.__balance:9,d}'"
   ],
   "outputs": [],
   "metadata": {}
  },
  {
   "cell_type": "code",
   "execution_count": null,
   "source": [
    "\r\n",
    "def creat_account():\r\n",
    "    s = input('계좌번호, 예금주, 잔액을 입력하시오.> ').split()\r\n",
    "    ano, owner = s[0], s[1]\r\n",
    "    amount = int(s[2])\r\n",
    "    acc = Account(ano, owner, amount)\r\n",
    "    acc_list.append(acc)\r\n",
    "    return\r\n",
    "\r\n",
    "def deposit_account():\r\n",
    "    s = input('입금계좌번호, 입금금액 입력하시오.> ').split()\r\n",
    "    ano, amount = s[0], int(s[1])\r\n",
    "    for acc in acc_list:\r\n",
    "        if acc.ano == ano:\r\n",
    "            acc.deposit(amount)\r\n",
    "            return\r\n",
    "        \r\n",
    "\r\n",
    "def withdraw_account():\r\n",
    "    s = input('출금계좌번호, 출금금액 입력하시오.> ').split()\r\n",
    "    ano, amount = s[0], int(s[1])\r\n",
    "    for acc in acc_list:\r\n",
    "        if acc.ano == ano:\r\n",
    "            acc.withdraw(amount)\r\n",
    "            return"
   ],
   "outputs": [],
   "metadata": {}
  },
  {
   "cell_type": "code",
   "execution_count": null,
   "source": [
    "while True:\r\n",
    "    menu = int(input('### 1: 계좌생성, 2:계좌목록, 3:입금, 4:출금, 5:종료> '))\r\n",
    "    if menu == 5:\r\n",
    "        break\r\n",
    "    if menu == 1:\r\n",
    "        creat_account()\r\n",
    "    elif menu == 2:\r\n",
    "        for account in acc_list:\r\n",
    "            print(account)\r\n",
    "    elif menu == 3 :\r\n",
    "        deposit_account()\r\n",
    "    elif menu == 4:\r\n",
    "        withdraw_account()\r\n",
    "    else:\r\n",
    "        print('잘못된 명령어입니다.')\r\n",
    "\r\n",
    "    print()"
   ],
   "outputs": [],
   "metadata": {}
  },
  {
   "cell_type": "code",
   "execution_count": null,
   "source": [],
   "outputs": [],
   "metadata": {}
  }
 ],
 "metadata": {
  "orig_nbformat": 4,
  "language_info": {
   "name": "python",
   "version": "3.8.10",
   "mimetype": "text/x-python",
   "codemirror_mode": {
    "name": "ipython",
    "version": 3
   },
   "pygments_lexer": "ipython3",
   "nbconvert_exporter": "python",
   "file_extension": ".py"
  },
  "kernelspec": {
   "name": "python3",
   "display_name": "Python 3.8.10 64-bit ('base': conda)"
  },
  "interpreter": {
   "hash": "20e1214a8bdb2e2c2b34d6c87bb951f9c9d2bc9eb3a38bf18f3ccb00b0b17c39"
  }
 },
 "nbformat": 4,
 "nbformat_minor": 2
}