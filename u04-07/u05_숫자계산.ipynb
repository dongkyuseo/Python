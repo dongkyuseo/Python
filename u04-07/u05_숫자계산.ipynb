{
  "nbformat": 4,
  "nbformat_minor": 2,
  "metadata": {
    "colab": {
      "name": "u05_숫자계산.ipynb",
      "provenance": [],
      "collapsed_sections": []
    },
    "kernelspec": {
      "name": "python3",
      "display_name": "Python 3"
    },
    "language_info": {
      "name": "python"
    }
  },
  "cells": [
    {
      "cell_type": "markdown",
      "source": [],
      "metadata": {
        "id": "kd_-uIcho8rD"
      }
    },
    {
      "cell_type": "markdown",
      "source": [
        "# Unit 5. 숫자 계산하기"
      ],
      "metadata": {
        "id": "5MFd9dRXo-mt"
      }
    },
    {
      "cell_type": "markdown",
      "source": [
        "## 5.1 정수 계산하기"
      ],
      "metadata": {
        "id": "z6gKj7dlqhc0"
      }
    },
    {
      "cell_type": "code",
      "execution_count": 1,
      "source": [
        "# 4칙 연산, +, -, *, (/,%,//)\r\n",
        "5 / 2"
      ],
      "outputs": [
        {
          "output_type": "execute_result",
          "data": {
            "text/plain": [
              "2.5"
            ]
          },
          "metadata": {
            "tags": []
          },
          "execution_count": 1
        }
      ],
      "metadata": {
        "colab": {
          "base_uri": "https://localhost:8080/"
        },
        "id": "hy4qyU6To24t",
        "outputId": "c62e6f28-24e5-4f46-f8c1-256bf160b174"
      }
    },
    {
      "cell_type": "code",
      "execution_count": 2,
      "source": [
        "# % - modulo, 나머지\r\n",
        "5 % 2"
      ],
      "outputs": [
        {
          "output_type": "execute_result",
          "data": {
            "text/plain": [
              "1"
            ]
          },
          "metadata": {
            "tags": []
          },
          "execution_count": 2
        }
      ],
      "metadata": {
        "colab": {
          "base_uri": "https://localhost:8080/"
        },
        "id": "wNch0TUPq48z",
        "outputId": "e2421e02-cec6-4dca-e458-eb89cfd2a41c"
      }
    },
    {
      "cell_type": "code",
      "execution_count": 3,
      "source": [
        "# // - 몫\r\n",
        "5 // 2"
      ],
      "outputs": [
        {
          "output_type": "execute_result",
          "data": {
            "text/plain": [
              "2"
            ]
          },
          "metadata": {
            "tags": []
          },
          "execution_count": 3
        }
      ],
      "metadata": {
        "colab": {
          "base_uri": "https://localhost:8080/"
        },
        "id": "Z_JovWOKtmQ2",
        "outputId": "939845b1-3566-4d85-dc81-e3d77a6ec29f"
      }
    },
    {
      "cell_type": "code",
      "execution_count": 4,
      "source": [
        "# 3의 배수 - 어떤 숫자를 3으로 모듈로 연산시 결과가 0 인 것\r\n",
        "6 % 3"
      ],
      "outputs": [
        {
          "output_type": "execute_result",
          "data": {
            "text/plain": [
              "0"
            ]
          },
          "metadata": {
            "tags": []
          },
          "execution_count": 4
        }
      ],
      "metadata": {
        "colab": {
          "base_uri": "https://localhost:8080/"
        },
        "id": "f1jJPGR3tpeV",
        "outputId": "11a7889a-454c-4fc5-f0db-d9ee030801ce"
      }
    },
    {
      "cell_type": "code",
      "execution_count": 5,
      "source": [
        "# 거듭 제곱\r\n",
        "2 ** 10"
      ],
      "outputs": [
        {
          "output_type": "execute_result",
          "data": {
            "text/plain": [
              "1024"
            ]
          },
          "metadata": {
            "tags": []
          },
          "execution_count": 5
        }
      ],
      "metadata": {
        "colab": {
          "base_uri": "https://localhost:8080/"
        },
        "id": "XCWUrNReuRn0",
        "outputId": "05f886da-2e01-418e-d91d-fe7fa48b8928"
      }
    },
    {
      "cell_type": "markdown",
      "source": [
        "### 값을 정수로 변환"
      ],
      "metadata": {
        "id": "72_1Mh13u6CF"
      }
    },
    {
      "cell_type": "code",
      "execution_count": 6,
      "source": [
        "int(3.14)"
      ],
      "outputs": [
        {
          "output_type": "execute_result",
          "data": {
            "text/plain": [
              "3"
            ]
          },
          "metadata": {
            "tags": []
          },
          "execution_count": 6
        }
      ],
      "metadata": {
        "colab": {
          "base_uri": "https://localhost:8080/"
        },
        "id": "tSQj_eU0up_A",
        "outputId": "5629ea3d-ec82-4915-ea72-6e4a3d7d504a"
      }
    },
    {
      "cell_type": "code",
      "execution_count": 7,
      "source": [
        "int(5 / 2)"
      ],
      "outputs": [
        {
          "output_type": "execute_result",
          "data": {
            "text/plain": [
              "2"
            ]
          },
          "metadata": {
            "tags": []
          },
          "execution_count": 7
        }
      ],
      "metadata": {
        "colab": {
          "base_uri": "https://localhost:8080/"
        },
        "id": "gxPZ1XOSu7dd",
        "outputId": "a0bbe932-b031-40c4-8a1a-8140de0a7fa7"
      }
    },
    {
      "cell_type": "code",
      "execution_count": 9,
      "source": [
        "# 'single quuote', \"duuble quote\" - 문자열 str; string\r\n",
        "int('55')"
      ],
      "outputs": [
        {
          "output_type": "execute_result",
          "data": {
            "text/plain": [
              "55"
            ]
          },
          "metadata": {
            "tags": []
          },
          "execution_count": 9
        }
      ],
      "metadata": {
        "colab": {
          "base_uri": "https://localhost:8080/"
        },
        "id": "CoJozRATvVJQ",
        "outputId": "e3c84f29-c46b-4678-f86e-7225c70bed21"
      }
    },
    {
      "cell_type": "code",
      "execution_count": 10,
      "source": [
        "string = '55'\r\n",
        "value = int(string)\r\n",
        "string, value"
      ],
      "outputs": [
        {
          "output_type": "execute_result",
          "data": {
            "text/plain": [
              "('55', 55)"
            ]
          },
          "metadata": {
            "tags": []
          },
          "execution_count": 10
        }
      ],
      "metadata": {
        "colab": {
          "base_uri": "https://localhost:8080/"
        },
        "id": "_ZjywS_OvW7C",
        "outputId": "4bbec49a-83fc-4f2b-c92c-6126b3269a33"
      }
    },
    {
      "cell_type": "code",
      "execution_count": 12,
      "source": [
        "type(string), type(value), type(3.14), type(3)"
      ],
      "outputs": [
        {
          "output_type": "execute_result",
          "data": {
            "text/plain": [
              "(str, int, float, int)"
            ]
          },
          "metadata": {
            "tags": []
          },
          "execution_count": 12
        }
      ],
      "metadata": {
        "colab": {
          "base_uri": "https://localhost:8080/"
        },
        "id": "YZIBvJoIwGY3",
        "outputId": "c79b9115-2c63-432b-9010-435af289db0d"
      }
    },
    {
      "cell_type": "code",
      "execution_count": 14,
      "source": [
        "# 몫과 나머지 동시 계산 divmod(5, 2)\r\n",
        "q, r = 5 // 2 , 5 % 2\r\n",
        "q, r"
      ],
      "outputs": [
        {
          "output_type": "execute_result",
          "data": {
            "text/plain": [
              "(2, 1)"
            ]
          },
          "metadata": {
            "tags": []
          },
          "execution_count": 14
        }
      ],
      "metadata": {
        "colab": {
          "base_uri": "https://localhost:8080/"
        },
        "id": "IE4C7aQywR6R",
        "outputId": "a2293c08-c331-4f00-887b-34fb0a2437e5"
      }
    },
    {
      "cell_type": "code",
      "execution_count": 16,
      "source": [
        "# 2진수, 8진수, 16진수\r\n",
        "0b101, 0o5, 0x5"
      ],
      "outputs": [
        {
          "output_type": "execute_result",
          "data": {
            "text/plain": [
              "(5, 5, 5)"
            ]
          },
          "metadata": {
            "tags": []
          },
          "execution_count": 16
        }
      ],
      "metadata": {
        "colab": {
          "base_uri": "https://localhost:8080/"
        },
        "id": "_Qu1e9Qbxd0f",
        "outputId": "5419470f-133b-462d-b24c-4529660efda8"
      }
    },
    {
      "cell_type": "code",
      "execution_count": 17,
      "source": [
        "0xa6"
      ],
      "outputs": [
        {
          "output_type": "execute_result",
          "data": {
            "text/plain": [
              "166"
            ]
          },
          "metadata": {
            "tags": []
          },
          "execution_count": 17
        }
      ],
      "metadata": {
        "colab": {
          "base_uri": "https://localhost:8080/"
        },
        "id": "YLCY7snbyBlk",
        "outputId": "34801e27-9393-4900-f6fc-96b396332d7f"
      }
    },
    {
      "cell_type": "code",
      "execution_count": 18,
      "source": [
        "# red - 0xff0000, green - 0x00ff00, blue - 0x0000ff\r\n",
        "#   #ffffff - white, #888888 - gray, #444444 - darkgray"
      ],
      "outputs": [],
      "metadata": {
        "id": "xEBRExVkzCXS"
      }
    },
    {
      "cell_type": "markdown",
      "source": [
        "##5.2 실수"
      ],
      "metadata": {
        "id": "HXKVkBVwzt8N"
      }
    },
    {
      "cell_type": "code",
      "execution_count": 19,
      "source": [
        "3.5 + 2.1"
      ],
      "outputs": [
        {
          "output_type": "execute_result",
          "data": {
            "text/plain": [
              "5.6"
            ]
          },
          "metadata": {
            "tags": []
          },
          "execution_count": 19
        }
      ],
      "metadata": {
        "colab": {
          "base_uri": "https://localhost:8080/"
        },
        "id": "8MlmdO4Jzsqs",
        "outputId": "9c6fe2de-fe0d-40af-e564-20f6684d9585"
      }
    },
    {
      "cell_type": "code",
      "execution_count": 20,
      "source": [
        "4.3 - 2.7"
      ],
      "outputs": [
        {
          "output_type": "execute_result",
          "data": {
            "text/plain": [
              "1.5999999999999996"
            ]
          },
          "metadata": {
            "tags": []
          },
          "execution_count": 20
        }
      ],
      "metadata": {
        "colab": {
          "base_uri": "https://localhost:8080/"
        },
        "id": "q-tK8LvczyPC",
        "outputId": "ff112738-05d6-475f-a584-865db0278d8a"
      }
    },
    {
      "cell_type": "code",
      "execution_count": 21,
      "source": [
        "import numpy as np\r\n",
        "np.abs((4.3-2.7) - 1.6) < 1e-10"
      ],
      "outputs": [
        {
          "output_type": "execute_result",
          "data": {
            "text/plain": [
              "True"
            ]
          },
          "metadata": {
            "tags": []
          },
          "execution_count": 21
        }
      ],
      "metadata": {
        "colab": {
          "base_uri": "https://localhost:8080/"
        },
        "id": "DweBZ_MRzz1N",
        "outputId": "4d9c4e2f-7557-4630-80fc-146c432901c7"
      }
    },
    {
      "cell_type": "code",
      "execution_count": 22,
      "source": [
        "4.2+5"
      ],
      "outputs": [
        {
          "output_type": "execute_result",
          "data": {
            "text/plain": [
              "9.2"
            ]
          },
          "metadata": {
            "tags": []
          },
          "execution_count": 22
        }
      ],
      "metadata": {
        "colab": {
          "base_uri": "https://localhost:8080/"
        },
        "id": "SxwiCtri1AWx",
        "outputId": "2d55035d-51e7-467d-d3d4-b0143990f7be"
      }
    },
    {
      "cell_type": "code",
      "execution_count": 24,
      "source": [
        "4.2 + float('5')"
      ],
      "outputs": [
        {
          "output_type": "execute_result",
          "data": {
            "text/plain": [
              "9.2"
            ]
          },
          "metadata": {
            "tags": []
          },
          "execution_count": 24
        }
      ],
      "metadata": {
        "colab": {
          "base_uri": "https://localhost:8080/"
        },
        "id": "SkqQRsyL2AFF",
        "outputId": "ae51e1c1-1018-427d-e498-902495735c61"
      }
    },
    {
      "cell_type": "code",
      "execution_count": 27,
      "source": [
        "int(0.2467 * 12 + 4.159)"
      ],
      "outputs": [
        {
          "output_type": "execute_result",
          "data": {
            "text/plain": [
              "7"
            ]
          },
          "metadata": {
            "tags": []
          },
          "execution_count": 27
        }
      ],
      "metadata": {
        "colab": {
          "base_uri": "https://localhost:8080/"
        },
        "id": "g1Nyp0lHKLlf",
        "outputId": "33f8649d-396f-4735-ee85-dba8a5d42837"
      }
    }
  ]
}