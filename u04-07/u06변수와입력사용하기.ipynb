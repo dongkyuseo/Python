{
  "nbformat": 4,
  "nbformat_minor": 2,
  "metadata": {
    "colab": {
      "name": "u06변수와입력사용하기.ipynb",
      "provenance": [],
      "collapsed_sections": []
    },
    "kernelspec": {
      "name": "python3",
      "display_name": "Python 3"
    },
    "language_info": {
      "name": "python"
    }
  },
  "cells": [
    {
      "cell_type": "markdown",
      "source": [
        "# Unit 6. 변수와 입력"
      ],
      "metadata": {
        "id": "eFt2Gp67LtmH"
      }
    },
    {
      "cell_type": "markdown",
      "source": [
        "## 6.1 변수\r\n",
        "- 영문 문자와 숫자를 사용할 수 있습니다.\r\n",
        "- 대소문자를 구분합니다.\r\n",
        "- 문자부터 시작해야 하며 숫자부터 시작하면 안 됩니다.\r\n",
        "- _(밑줄 문자)로 시작할 수 있습니다.\r\n",
        "- 특수 문자(+, -, *, /, $, @, &, % 등)는 사용할 수 없습니다.\r\n",
        "- 파이썬의 키워드(if, for, while, and, or 등)는 사용할 수 없습니다."
      ],
      "metadata": {
        "id": "RzLs1LZ_LzT-"
      }
    },
    {
      "cell_type": "code",
      "execution_count": 1,
      "source": [
        "x = 10\r\n",
        "x"
      ],
      "outputs": [
        {
          "output_type": "execute_result",
          "data": {
            "text/plain": [
              "10"
            ]
          },
          "metadata": {
            "tags": []
          },
          "execution_count": 1
        }
      ],
      "metadata": {
        "colab": {
          "base_uri": "https://localhost:8080/"
        },
        "id": "XhFGj8H5Ln-b",
        "outputId": "6414e004-269e-4fbb-9c1a-6408861d8396"
      }
    },
    {
      "cell_type": "code",
      "execution_count": 3,
      "source": [
        "s = 'hello, world!'\r\n",
        "s"
      ],
      "outputs": [
        {
          "output_type": "execute_result",
          "data": {
            "text/plain": [
              "'hello, world!'"
            ],
            "application/vnd.google.colaboratory.intrinsic+json": {
              "type": "string"
            }
          },
          "metadata": {
            "tags": []
          },
          "execution_count": 3
        }
      ],
      "metadata": {
        "colab": {
          "base_uri": "https://localhost:8080/",
          "height": 35
        },
        "id": "QIfcNm3ANKLV",
        "outputId": "63f00098-91d7-49ad-e7a8-aa42d3c97d93"
      }
    },
    {
      "cell_type": "code",
      "execution_count": 5,
      "source": [
        "type(x), type(s)"
      ],
      "outputs": [
        {
          "output_type": "execute_result",
          "data": {
            "text/plain": [
              "(int, str)"
            ]
          },
          "metadata": {
            "tags": []
          },
          "execution_count": 5
        }
      ],
      "metadata": {
        "colab": {
          "base_uri": "https://localhost:8080/"
        },
        "id": "l-lWFYs6NRhn",
        "outputId": "c2b4b74e-89d8-49ca-9258-d92574bebf27"
      }
    },
    {
      "cell_type": "code",
      "execution_count": 6,
      "source": [
        "x, y, z = 10, 20, 30\r\n",
        "x, y, z"
      ],
      "outputs": [
        {
          "output_type": "execute_result",
          "data": {
            "text/plain": [
              "(10, 20, 30)"
            ]
          },
          "metadata": {
            "tags": []
          },
          "execution_count": 6
        }
      ],
      "metadata": {
        "colab": {
          "base_uri": "https://localhost:8080/"
        },
        "id": "Lfwe_tIPNdQz",
        "outputId": "030176bb-85a6-4236-a28c-1d9de5e7044b"
      }
    },
    {
      "cell_type": "code",
      "execution_count": 7,
      "source": [
        "x = y = z = 10\r\n",
        "x, y, z"
      ],
      "outputs": [
        {
          "output_type": "execute_result",
          "data": {
            "text/plain": [
              "(10, 10, 10)"
            ]
          },
          "metadata": {
            "tags": []
          },
          "execution_count": 7
        }
      ],
      "metadata": {
        "colab": {
          "base_uri": "https://localhost:8080/"
        },
        "id": "fK4WE4n4NomU",
        "outputId": "64033869-eed0-4770-b9ce-3077b8adfa35"
      }
    },
    {
      "cell_type": "code",
      "execution_count": 8,
      "source": [
        "del z\r\n",
        "pritn(z)"
      ],
      "outputs": [
        {
          "output_type": "error",
          "ename": "NameError",
          "evalue": "ignored",
          "traceback": [
            "\u001b[0;31m---------------------------------------------------------------------------\u001b[0m",
            "\u001b[0;31mNameError\u001b[0m                                 Traceback (most recent call last)",
            "\u001b[0;32m<ipython-input-8-e51ddb63f075>\u001b[0m in \u001b[0;36m<module>\u001b[0;34m()\u001b[0m\n\u001b[1;32m      1\u001b[0m \u001b[0;32mdel\u001b[0m \u001b[0mz\u001b[0m\u001b[0;34m\u001b[0m\u001b[0;34m\u001b[0m\u001b[0m\n\u001b[0;32m----> 2\u001b[0;31m \u001b[0mpritn\u001b[0m\u001b[0;34m(\u001b[0m\u001b[0mz\u001b[0m\u001b[0;34m)\u001b[0m\u001b[0;34m\u001b[0m\u001b[0;34m\u001b[0m\u001b[0m\n\u001b[0m",
            "\u001b[0;31mNameError\u001b[0m: name 'pritn' is not defined"
          ]
        }
      ],
      "metadata": {
        "colab": {
          "base_uri": "https://localhost:8080/",
          "height": 190
        },
        "id": "E3jzqbO1NsSw",
        "outputId": "60fa4644-530b-41c8-baad-727791f900bf"
      }
    },
    {
      "cell_type": "code",
      "execution_count": 11,
      "source": [
        "x = None\r\n",
        "print(x)"
      ],
      "outputs": [
        {
          "output_type": "stream",
          "name": "stdout",
          "text": [
            "None\n"
          ]
        }
      ],
      "metadata": {
        "colab": {
          "base_uri": "https://localhost:8080/"
        },
        "id": "OSmPgdpWN2mc",
        "outputId": "bf760efe-10a5-484f-e773-b68d86bce51a"
      }
    },
    {
      "cell_type": "code",
      "execution_count": 13,
      "source": [
        "x"
      ],
      "outputs": [],
      "metadata": {
        "id": "MZjn10pvOQtj"
      }
    },
    {
      "cell_type": "markdown",
      "source": [
        "## 6.2 변수로 계산하기"
      ],
      "metadata": {
        "id": "SRvHv-RvOZBK"
      }
    },
    {
      "cell_type": "code",
      "execution_count": 14,
      "source": [
        "a = 10\r\n",
        "a = a + 10\r\n",
        "a"
      ],
      "outputs": [
        {
          "output_type": "execute_result",
          "data": {
            "text/plain": [
              "20"
            ]
          },
          "metadata": {
            "tags": []
          },
          "execution_count": 14
        }
      ],
      "metadata": {
        "colab": {
          "base_uri": "https://localhost:8080/"
        },
        "id": "PqaG3Zw0OT5m",
        "outputId": "571d8d59-5ebe-4de4-c0cf-8c6ca29db81d"
      }
    },
    {
      "cell_type": "code",
      "execution_count": 15,
      "source": [
        "sum, prod = 0, 1\r\n",
        "for i in range(1, 11):\r\n",
        "      sum += i\r\n",
        "      prod *= i\r\n",
        "sum, prod"
      ],
      "outputs": [
        {
          "output_type": "execute_result",
          "data": {
            "text/plain": [
              "(55, 3628800)"
            ]
          },
          "metadata": {
            "tags": []
          },
          "execution_count": 15
        }
      ],
      "metadata": {
        "colab": {
          "base_uri": "https://localhost:8080/"
        },
        "id": "SJUGgWVyO2ms",
        "outputId": "f1ea4a8c-e1dc-4b6c-fac3-ad1a90962ac1"
      }
    },
    {
      "cell_type": "code",
      "execution_count": 16,
      "source": [
        "-prod"
      ],
      "outputs": [
        {
          "output_type": "execute_result",
          "data": {
            "text/plain": [
              "-3628800"
            ]
          },
          "metadata": {
            "tags": []
          },
          "execution_count": 16
        }
      ],
      "metadata": {
        "colab": {
          "base_uri": "https://localhost:8080/"
        },
        "id": "8zwuni1WPdYB",
        "outputId": "13a4dea2-88e3-4539-e269-3c2aa0a35b95"
      }
    },
    {
      "cell_type": "code",
      "execution_count": 18,
      "source": [
        "x = input()"
      ],
      "outputs": [
        {
          "output_type": "stream",
          "name": "stdout",
          "text": [
            "Hello, World!\n"
          ]
        }
      ],
      "metadata": {
        "colab": {
          "base_uri": "https://localhost:8080/"
        },
        "id": "U1Xmrzd9QH_G",
        "outputId": "f2b8b110-b23f-4f40-8e0c-55e34135857d"
      }
    },
    {
      "cell_type": "code",
      "execution_count": 19,
      "source": [
        "x"
      ],
      "outputs": [
        {
          "output_type": "execute_result",
          "data": {
            "text/plain": [
              "'Hello, World!'"
            ],
            "application/vnd.google.colaboratory.intrinsic+json": {
              "type": "string"
            }
          },
          "metadata": {
            "tags": []
          },
          "execution_count": 19
        }
      ],
      "metadata": {
        "colab": {
          "base_uri": "https://localhost:8080/",
          "height": 35
        },
        "id": "0nzRvRMqQd38",
        "outputId": "faa266eb-a0ed-485a-d2de-b5e4428024a7"
      }
    },
    {
      "cell_type": "markdown",
      "source": [
        "## 6.3 input 함수"
      ],
      "metadata": {
        "id": "6cugtMkNSWEl"
      }
    },
    {
      "cell_type": "code",
      "execution_count": 20,
      "source": [
        "x = input('i에서 10사이의 정수값>')   # prompt"
      ],
      "outputs": [
        {
          "output_type": "stream",
          "name": "stdout",
          "text": [
            "i에서 10사이의 정수값>7\n"
          ]
        }
      ],
      "metadata": {
        "colab": {
          "base_uri": "https://localhost:8080/"
        },
        "id": "i44l4PiuQk39",
        "outputId": "44225636-3604-458d-9e14-3e65706c10cd"
      }
    },
    {
      "cell_type": "code",
      "execution_count": 23,
      "source": [
        "# 입력한 두 정수의 합\r\n",
        "a = input('첫번째 정수>')\r\n",
        "b = input('두번째 정수>')\r\n",
        "a + b"
      ],
      "outputs": [
        {
          "output_type": "stream",
          "name": "stdout",
          "text": [
            "첫번째 정수>101\n",
            "두번째 정수>303\n"
          ]
        },
        {
          "output_type": "execute_result",
          "data": {
            "text/plain": [
              "'101303'"
            ],
            "application/vnd.google.colaboratory.intrinsic+json": {
              "type": "string"
            }
          },
          "metadata": {
            "tags": []
          },
          "execution_count": 23
        }
      ],
      "metadata": {
        "colab": {
          "base_uri": "https://localhost:8080/",
          "height": 71
        },
        "id": "tn9J1FmlRAun",
        "outputId": "46a075d1-7f64-4998-9a43-c46c95929c6a"
      }
    },
    {
      "cell_type": "code",
      "execution_count": null,
      "source": [],
      "outputs": [],
      "metadata": {
        "id": "uCdy7DMmRzDy"
      }
    },
    {
      "cell_type": "code",
      "execution_count": 24,
      "source": [
        "# 입력한 두 정수의 합\r\n",
        "a = input('첫번째 정수>')\r\n",
        "b = input('두번째 정수>')\r\n",
        "int(a) + int(b)"
      ],
      "outputs": [
        {
          "output_type": "stream",
          "name": "stdout",
          "text": [
            "첫번째 정수>101\n",
            "두번째 정수>303\n"
          ]
        },
        {
          "output_type": "execute_result",
          "data": {
            "text/plain": [
              "404"
            ]
          },
          "metadata": {
            "tags": []
          },
          "execution_count": 24
        }
      ],
      "metadata": {
        "colab": {
          "base_uri": "https://localhost:8080/"
        },
        "id": "Xfg9ShN8RX7n",
        "outputId": "70bdc18f-3989-4a4c-98ee-3e97349736a7"
      }
    },
    {
      "cell_type": "code",
      "execution_count": 25,
      "source": [
        "# 입력한 두 정수의 합\r\n",
        "a = int(input('첫번째 정수>'))\r\n",
        "b = int(input('두번째 정수>'))\r\n",
        "a + b"
      ],
      "outputs": [
        {
          "output_type": "stream",
          "name": "stdout",
          "text": [
            "첫번째 정수>101\n",
            "두번째 정수>303\n"
          ]
        },
        {
          "output_type": "execute_result",
          "data": {
            "text/plain": [
              "404"
            ]
          },
          "metadata": {
            "tags": []
          },
          "execution_count": 25
        }
      ],
      "metadata": {
        "colab": {
          "base_uri": "https://localhost:8080/"
        },
        "id": "bGjm0lmeR2Yr",
        "outputId": "74b95691-0a63-44be-ae82-813a0e2d6d82"
      }
    },
    {
      "cell_type": "markdown",
      "source": [
        "## 6.4 입력값 두개"
      ],
      "metadata": {
        "id": "ehJmCXj7SRYi"
      }
    },
    {
      "cell_type": "code",
      "execution_count": 26,
      "source": [
        "s.split()"
      ],
      "outputs": [
        {
          "output_type": "execute_result",
          "data": {
            "text/plain": [
              "['hello,', 'world!']"
            ]
          },
          "metadata": {
            "tags": []
          },
          "execution_count": 26
        }
      ],
      "metadata": {
        "colab": {
          "base_uri": "https://localhost:8080/"
        },
        "id": "bVR8Ksp_R8CL",
        "outputId": "f74ada52-d524-4c4a-a69d-9d1c7783ebb2"
      }
    },
    {
      "cell_type": "code",
      "execution_count": 27,
      "source": [
        "a, b = s.split()\r\n",
        "a, b"
      ],
      "outputs": [
        {
          "output_type": "execute_result",
          "data": {
            "text/plain": [
              "('hello,', 'world!')"
            ]
          },
          "metadata": {
            "tags": []
          },
          "execution_count": 27
        }
      ],
      "metadata": {
        "colab": {
          "base_uri": "https://localhost:8080/"
        },
        "id": "AGvE5ntKSdvs",
        "outputId": "21c67073-12cc-4ccb-9b88-cd9a17f54aeb"
      }
    },
    {
      "cell_type": "code",
      "execution_count": 29,
      "source": [
        "a, b, c = 'a quick brown'.split()\r\n",
        "a, b, c"
      ],
      "outputs": [
        {
          "output_type": "execute_result",
          "data": {
            "text/plain": [
              "('a', 'quick', 'brown')"
            ]
          },
          "metadata": {
            "tags": []
          },
          "execution_count": 29
        }
      ],
      "metadata": {
        "colab": {
          "base_uri": "https://localhost:8080/"
        },
        "id": "_8lmKE6JSr-p",
        "outputId": "32669d64-4b2f-4163-d71c-c6da45f3431f"
      }
    },
    {
      "cell_type": "code",
      "execution_count": 30,
      "source": [
        "a, b = input('정수 두개 입력> ').split()"
      ],
      "outputs": [
        {
          "output_type": "stream",
          "name": "stdout",
          "text": [
            "정수 두개 입력> 10 20\n"
          ]
        }
      ],
      "metadata": {
        "colab": {
          "base_uri": "https://localhost:8080/"
        },
        "id": "wtxHeiQXS8zO",
        "outputId": "548ec30e-408c-49b9-9347-fa03298aca6e"
      }
    },
    {
      "cell_type": "code",
      "execution_count": 31,
      "source": [
        "a, b"
      ],
      "outputs": [
        {
          "output_type": "execute_result",
          "data": {
            "text/plain": [
              "('10', '20')"
            ]
          },
          "metadata": {
            "tags": []
          },
          "execution_count": 31
        }
      ],
      "metadata": {
        "colab": {
          "base_uri": "https://localhost:8080/"
        },
        "id": "XmOs1dq4VzQy",
        "outputId": "a9fc6d17-4669-4237-ffcf-3a4ad44013a0"
      }
    },
    {
      "cell_type": "code",
      "execution_count": 32,
      "source": [
        "a = int(a)\r\n",
        "b = int(b)\r\n",
        "a+b"
      ],
      "outputs": [
        {
          "output_type": "execute_result",
          "data": {
            "text/plain": [
              "30"
            ]
          },
          "metadata": {
            "tags": []
          },
          "execution_count": 32
        }
      ],
      "metadata": {
        "colab": {
          "base_uri": "https://localhost:8080/"
        },
        "id": "0VqCz5KAV2VT",
        "outputId": "f7374c86-cebc-4277-c020-4bb60e4b4b14"
      }
    },
    {
      "cell_type": "code",
      "execution_count": 34,
      "source": [
        "a, b = input('정수 두개 입력, comma로 구분하세요.> ').split(',')"
      ],
      "outputs": [
        {
          "output_type": "stream",
          "name": "stdout",
          "text": [
            "정수 두개 입력, comma로 구분하세요.> 10,20\n"
          ]
        }
      ],
      "metadata": {
        "colab": {
          "base_uri": "https://localhost:8080/"
        },
        "id": "9kqEGidXWGvn",
        "outputId": "3f515f6a-0482-4d7b-fd7e-0bdd407eedcf"
      }
    },
    {
      "cell_type": "code",
      "execution_count": 35,
      "source": [
        "a = int(a)\r\n",
        "b = int(b)\r\n",
        "a+b"
      ],
      "outputs": [
        {
          "output_type": "execute_result",
          "data": {
            "text/plain": [
              "30"
            ]
          },
          "metadata": {
            "tags": []
          },
          "execution_count": 35
        }
      ],
      "metadata": {
        "colab": {
          "base_uri": "https://localhost:8080/"
        },
        "id": "cuJ44ZzIWNMN",
        "outputId": "1ff18e2b-87de-42dc-dc47-52c2385ef7d4"
      }
    },
    {
      "cell_type": "markdown",
      "source": [
        "### map 함수 활용"
      ],
      "metadata": {
        "id": "UvIS304FWbIy"
      }
    },
    {
      "cell_type": "code",
      "execution_count": 38,
      "source": [
        "a, b = map(int, [10.2, 11.4])\r\n",
        "a, b"
      ],
      "outputs": [
        {
          "output_type": "execute_result",
          "data": {
            "text/plain": [
              "(10, 11)"
            ]
          },
          "metadata": {
            "tags": []
          },
          "execution_count": 38
        }
      ],
      "metadata": {
        "colab": {
          "base_uri": "https://localhost:8080/"
        },
        "id": "ugzbqA6DWSN6",
        "outputId": "857b6412-1135-49f0-f957-62f28b5a47b7"
      }
    },
    {
      "cell_type": "code",
      "execution_count": 39,
      "source": [
        "a, b = map(int, input('정수 두개 입력> ').split())\r\n",
        "a + b"
      ],
      "outputs": [
        {
          "output_type": "stream",
          "name": "stdout",
          "text": [
            "정수 두개 입력> 10 20\n"
          ]
        },
        {
          "output_type": "execute_result",
          "data": {
            "text/plain": [
              "30"
            ]
          },
          "metadata": {
            "tags": []
          },
          "execution_count": 39
        }
      ],
      "metadata": {
        "colab": {
          "base_uri": "https://localhost:8080/"
        },
        "id": "3_aZvHhRXMXA",
        "outputId": "c08e85a4-c51d-4520-ac3d-389305303f26"
      }
    },
    {
      "cell_type": "code",
      "execution_count": 40,
      "source": [
        "import math\r\n",
        "a, b = map(math.sqrt, [1, 4])\r\n",
        "a, b"
      ],
      "outputs": [
        {
          "output_type": "execute_result",
          "data": {
            "text/plain": [
              "(1.0, 2.0)"
            ]
          },
          "metadata": {
            "tags": []
          },
          "execution_count": 40
        }
      ],
      "metadata": {
        "colab": {
          "base_uri": "https://localhost:8080/"
        },
        "id": "0z1s232VXVIT",
        "outputId": "fabf6302-8d41-4433-b614-f9a4dcc4f050"
      }
    },
    {
      "cell_type": "code",
      "execution_count": null,
      "source": [],
      "outputs": [],
      "metadata": {
        "id": "8w6NoWpLX1b3"
      }
    }
  ]
}