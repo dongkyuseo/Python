{
  "nbformat": 4,
  "nbformat_minor": 2,
  "metadata": {
    "colab": {
      "name": "u08불과비교논리연산자알아보기.ipynb",
      "provenance": [],
      "collapsed_sections": []
    },
    "kernelspec": {
      "name": "python3",
      "display_name": "Python 3"
    },
    "language_info": {
      "name": "python"
    }
  },
  "cells": [
    {
      "cell_type": "markdown",
      "source": [
        "# Unit 8. 불과 비교, 논리 연산자 알아보기"
      ],
      "metadata": {
        "id": "vVs3x2pNdWaq"
      }
    },
    {
      "cell_type": "markdown",
      "source": [
        "## 8.1 불(Bool)과 비교 연산자 사용하기"
      ],
      "metadata": {
        "id": "d1QFwtO_dbVc"
      }
    },
    {
      "cell_type": "code",
      "execution_count": 1,
      "source": [
        "True, False"
      ],
      "outputs": [
        {
          "output_type": "execute_result",
          "data": {
            "text/plain": [
              "(True, False)"
            ]
          },
          "metadata": {
            "tags": []
          },
          "execution_count": 1
        }
      ],
      "metadata": {
        "colab": {
          "base_uri": "https://localhost:8080/"
        },
        "id": "GwGaltnrdPw1",
        "outputId": "941fb211-e47f-44bd-92e9-c59c53582952"
      }
    },
    {
      "cell_type": "code",
      "execution_count": 3,
      "source": [
        "# >, >=, <, <=, ==, !=\r\n",
        "10 >= 5"
      ],
      "outputs": [
        {
          "output_type": "execute_result",
          "data": {
            "text/plain": [
              "True"
            ]
          },
          "metadata": {
            "tags": []
          },
          "execution_count": 3
        }
      ],
      "metadata": {
        "colab": {
          "base_uri": "https://localhost:8080/"
        },
        "id": "_vBMNxWZfF14",
        "outputId": "cf01e181-9fff-435c-e834-de13e5394b81"
      }
    },
    {
      "cell_type": "code",
      "execution_count": 6,
      "source": [
        "a = 10 !=5\r\n",
        "a"
      ],
      "outputs": [
        {
          "output_type": "execute_result",
          "data": {
            "text/plain": [
              "True"
            ]
          },
          "metadata": {
            "tags": []
          },
          "execution_count": 6
        }
      ],
      "metadata": {
        "colab": {
          "base_uri": "https://localhost:8080/"
        },
        "id": "7dv9DqOpfx11",
        "outputId": "6673403a-9d20-44b1-826f-b647d4ed14fb"
      }
    },
    {
      "cell_type": "code",
      "execution_count": 7,
      "source": [
        "'python' == 'Python'"
      ],
      "outputs": [
        {
          "output_type": "execute_result",
          "data": {
            "text/plain": [
              "False"
            ]
          },
          "metadata": {
            "tags": []
          },
          "execution_count": 7
        }
      ],
      "metadata": {
        "colab": {
          "base_uri": "https://localhost:8080/"
        },
        "id": "vtwjsaZ2gD_T",
        "outputId": "691b1687-bfee-43db-e112-073f814d5dcb"
      }
    },
    {
      "cell_type": "markdown",
      "source": [
        "## 8.2 논리 연산자 사용하기\r\n",
        "- and, or, not"
      ],
      "metadata": {
        "id": "t8z-m3fBgc2L"
      }
    },
    {
      "cell_type": "code",
      "execution_count": 10,
      "source": [
        "# 논리연산자 순서\r\n",
        "((not True) and False) or (not False)"
      ],
      "outputs": [
        {
          "output_type": "execute_result",
          "data": {
            "text/plain": [
              "True"
            ]
          },
          "metadata": {
            "tags": []
          },
          "execution_count": 10
        }
      ],
      "metadata": {
        "colab": {
          "base_uri": "https://localhost:8080/"
        },
        "id": "sRnf9hRGgQmI",
        "outputId": "3c373406-2d0b-4925-ded5-bd83951715e0"
      }
    },
    {
      "cell_type": "code",
      "execution_count": 12,
      "source": [
        "# x > 10, x < 5\r\n",
        "x = 6\r\n",
        "x > 10 or x < 5"
      ],
      "outputs": [
        {
          "output_type": "execute_result",
          "data": {
            "text/plain": [
              "False"
            ]
          },
          "metadata": {
            "tags": []
          },
          "execution_count": 12
        }
      ],
      "metadata": {
        "colab": {
          "base_uri": "https://localhost:8080/"
        },
        "id": "iiDTnuprkQGw",
        "outputId": "88f96b85-80a3-4e2a-c829-c4e852689636"
      }
    },
    {
      "cell_type": "code",
      "execution_count": 14,
      "source": [
        "# 5 < x < 10\r\n",
        "x > 5 and x < 10"
      ],
      "outputs": [
        {
          "output_type": "execute_result",
          "data": {
            "text/plain": [
              "True"
            ]
          },
          "metadata": {
            "tags": []
          },
          "execution_count": 14
        }
      ],
      "metadata": {
        "colab": {
          "base_uri": "https://localhost:8080/"
        },
        "id": "j71kuyG0klCY",
        "outputId": "80a3ebc4-8873-479c-cb66-2cd1c5ee5b68"
      }
    },
    {
      "cell_type": "code",
      "execution_count": 15,
      "source": [
        "5 < x < 10"
      ],
      "outputs": [
        {
          "output_type": "execute_result",
          "data": {
            "text/plain": [
              "True"
            ]
          },
          "metadata": {
            "tags": []
          },
          "execution_count": 15
        }
      ],
      "metadata": {
        "colab": {
          "base_uri": "https://localhost:8080/"
        },
        "id": "1iYxjpM7ksBW",
        "outputId": "7ba91d04-6bde-4f4a-de89-7149efff40cc"
      }
    },
    {
      "cell_type": "code",
      "execution_count": 16,
      "source": [
        "bool(0), bool(1), bool(4)"
      ],
      "outputs": [
        {
          "output_type": "execute_result",
          "data": {
            "text/plain": [
              "(False, True, True)"
            ]
          },
          "metadata": {
            "tags": []
          },
          "execution_count": 16
        }
      ],
      "metadata": {
        "colab": {
          "base_uri": "https://localhost:8080/"
        },
        "id": "S-n-aYRYkyzj",
        "outputId": "1dd2b5bd-d661-46b3-850f-91798dde7997"
      }
    },
    {
      "cell_type": "code",
      "execution_count": 17,
      "source": [
        "bool(0.0), bool(1.), bool(-4.)"
      ],
      "outputs": [
        {
          "output_type": "execute_result",
          "data": {
            "text/plain": [
              "(False, True, True)"
            ]
          },
          "metadata": {
            "tags": []
          },
          "execution_count": 17
        }
      ],
      "metadata": {
        "colab": {
          "base_uri": "https://localhost:8080/"
        },
        "id": "QWmKCtIRlbEn",
        "outputId": "7d3c1f11-4272-453f-fab8-a8e79c2d9d97"
      }
    },
    {
      "cell_type": "code",
      "execution_count": 18,
      "source": [
        "bool(''), bool('s')"
      ],
      "outputs": [
        {
          "output_type": "execute_result",
          "data": {
            "text/plain": [
              "(False, True)"
            ]
          },
          "metadata": {
            "tags": []
          },
          "execution_count": 18
        }
      ],
      "metadata": {
        "colab": {
          "base_uri": "https://localhost:8080/"
        },
        "id": "y-omyr6vlgGr",
        "outputId": "535e0d80-20b9-45b0-87cb-2261adf3b8c0"
      }
    },
    {
      "cell_type": "code",
      "execution_count": 19,
      "source": [
        "if 4:\r\n",
        "    print('4 is True')"
      ],
      "outputs": [
        {
          "output_type": "stream",
          "name": "stdout",
          "text": [
            "4 is True\n"
          ]
        }
      ],
      "metadata": {
        "colab": {
          "base_uri": "https://localhost:8080/"
        },
        "id": "zkMM6oVllm2U",
        "outputId": "5b76214f-0234-4119-9783-91a1ffefa1d2"
      }
    },
    {
      "cell_type": "code",
      "execution_count": 20,
      "source": [
        "int(True), int(False)"
      ],
      "outputs": [
        {
          "output_type": "execute_result",
          "data": {
            "text/plain": [
              "(1, 0)"
            ]
          },
          "metadata": {
            "tags": []
          },
          "execution_count": 20
        }
      ],
      "metadata": {
        "colab": {
          "base_uri": "https://localhost:8080/"
        },
        "id": "UO42W9tsl69v",
        "outputId": "afe6afa2-1cd7-4eec-9120-57f4038aa9ac"
      }
    },
    {
      "cell_type": "markdown",
      "source": [
        "###Short-circuit evaluation"
      ],
      "metadata": {
        "id": "VsxLY4E_msv9"
      }
    },
    {
      "cell_type": "code",
      "execution_count": 21,
      "source": [
        "1 or 'python'"
      ],
      "outputs": [
        {
          "output_type": "execute_result",
          "data": {
            "text/plain": [
              "1"
            ]
          },
          "metadata": {
            "tags": []
          },
          "execution_count": 21
        }
      ],
      "metadata": {
        "colab": {
          "base_uri": "https://localhost:8080/"
        },
        "id": "HyH4ZTzxl-L7",
        "outputId": "f24c5ff8-96be-48bf-f2f5-2cc144cb7656"
      }
    },
    {
      "cell_type": "code",
      "execution_count": 22,
      "source": [
        "0 or 'python'"
      ],
      "outputs": [
        {
          "output_type": "execute_result",
          "data": {
            "text/plain": [
              "'python'"
            ],
            "application/vnd.google.colaboratory.intrinsic+json": {
              "type": "string"
            }
          },
          "metadata": {
            "tags": []
          },
          "execution_count": 22
        }
      ],
      "metadata": {
        "colab": {
          "base_uri": "https://localhost:8080/",
          "height": 35
        },
        "id": "uYDqsctPmOeH",
        "outputId": "7a9f0436-bb0f-42ea-c86b-4204dbb06106"
      }
    },
    {
      "cell_type": "code",
      "execution_count": 23,
      "source": [
        "1 and 'python'"
      ],
      "outputs": [
        {
          "output_type": "execute_result",
          "data": {
            "text/plain": [
              "'python'"
            ],
            "application/vnd.google.colaboratory.intrinsic+json": {
              "type": "string"
            }
          },
          "metadata": {
            "tags": []
          },
          "execution_count": 23
        }
      ],
      "metadata": {
        "colab": {
          "base_uri": "https://localhost:8080/",
          "height": 35
        },
        "id": "uBLtjN9ymT7p",
        "outputId": "c3ce6429-37c2-4d7c-d877-9bf690561160"
      }
    },
    {
      "cell_type": "code",
      "execution_count": 24,
      "source": [
        "0 and 'python'"
      ],
      "outputs": [
        {
          "output_type": "execute_result",
          "data": {
            "text/plain": [
              "0"
            ]
          },
          "metadata": {
            "tags": []
          },
          "execution_count": 24
        }
      ],
      "metadata": {
        "colab": {
          "base_uri": "https://localhost:8080/"
        },
        "id": "f4wH-fJAmhQd",
        "outputId": "625dded3-0650-4309-c1bf-bcd5827d112f"
      }
    },
    {
      "cell_type": "code",
      "execution_count": null,
      "source": [],
      "outputs": [],
      "metadata": {
        "id": "ouBPqj05mi0C"
      }
    }
  ]
}