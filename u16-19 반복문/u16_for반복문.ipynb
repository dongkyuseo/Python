{
 "cells": [
  {
   "cell_type": "markdown",
   "source": [
    "# Unit 16. for 반복문사용 하기"
   ],
   "metadata": {}
  },
  {
   "cell_type": "markdown",
   "source": [
    "## 16.1 for와 range 사용하기"
   ],
   "metadata": {}
  },
  {
   "cell_type": "code",
   "execution_count": 3,
   "source": [
    "for i in range(10):\r\n",
    "    print('Hello, World!', i)"
   ],
   "outputs": [
    {
     "output_type": "stream",
     "name": "stdout",
     "text": [
      "Hello, World! 0\n",
      "Hello, World! 1\n",
      "Hello, World! 2\n",
      "Hello, World! 3\n",
      "Hello, World! 4\n",
      "Hello, World! 5\n",
      "Hello, World! 6\n",
      "Hello, World! 7\n",
      "Hello, World! 8\n",
      "Hello, World! 9\n"
     ]
    }
   ],
   "metadata": {}
  },
  {
   "cell_type": "code",
   "execution_count": 4,
   "source": [
    "# _ 의 의미는 일회용\r\n",
    "for _ in range(5):\r\n",
    "    print('Hello, World!')"
   ],
   "outputs": [
    {
     "output_type": "stream",
     "name": "stdout",
     "text": [
      "Hello, World!\n",
      "Hello, World!\n",
      "Hello, World!\n",
      "Hello, World!\n",
      "Hello, World!\n"
     ]
    }
   ],
   "metadata": {}
  },
  {
   "cell_type": "code",
   "execution_count": 5,
   "source": [
    "for i in range(6, 10):\r\n",
    "    print('Hello, World!', i)"
   ],
   "outputs": [
    {
     "output_type": "stream",
     "name": "stdout",
     "text": [
      "Hello, World! 6\n",
      "Hello, World! 7\n",
      "Hello, World! 8\n",
      "Hello, World! 9\n"
     ]
    }
   ],
   "metadata": {}
  },
  {
   "cell_type": "code",
   "execution_count": 6,
   "source": [
    "for i in range(0, 10, 2):\r\n",
    "    print('Hello, World!', i)"
   ],
   "outputs": [
    {
     "output_type": "stream",
     "name": "stdout",
     "text": [
      "Hello, World! 0\n",
      "Hello, World! 2\n",
      "Hello, World! 4\n",
      "Hello, World! 6\n",
      "Hello, World! 8\n"
     ]
    }
   ],
   "metadata": {}
  },
  {
   "cell_type": "code",
   "execution_count": 7,
   "source": [
    "for i in range(10, 0, -2):\r\n",
    "    print('Hello, World!', i)"
   ],
   "outputs": [
    {
     "output_type": "stream",
     "name": "stdout",
     "text": [
      "Hello, World! 10\n",
      "Hello, World! 8\n",
      "Hello, World! 6\n",
      "Hello, World! 4\n",
      "Hello, World! 2\n"
     ]
    }
   ],
   "metadata": {}
  },
  {
   "cell_type": "code",
   "execution_count": 8,
   "source": [
    "for i in range(1, 101):\r\n",
    "    print('Fizz'*(i % 3 == 0)+'Buzz'*(i % 5 == 0) or i, end=' ')"
   ],
   "outputs": [
    {
     "output_type": "stream",
     "name": "stdout",
     "text": [
      "1 2 Fizz 4 Buzz Fizz 7 8 Fizz Buzz 11 Fizz 13 14 FizzBuzz 16 17 Fizz 19 Buzz Fizz 22 23 Fizz Buzz 26 Fizz 28 29 FizzBuzz 31 32 Fizz 34 Buzz Fizz 37 38 Fizz Buzz 41 Fizz 43 44 FizzBuzz 46 47 Fizz 49 Buzz Fizz 52 53 Fizz Buzz 56 Fizz 58 59 FizzBuzz 61 62 Fizz 64 Buzz Fizz 67 68 Fizz Buzz 71 Fizz 73 74 FizzBuzz 76 77 Fizz 79 Buzz Fizz 82 83 Fizz Buzz 86 Fizz 88 89 FizzBuzz 91 92 Fizz 94 Buzz Fizz 97 98 Fizz Buzz "
     ]
    }
   ],
   "metadata": {}
  },
  {
   "cell_type": "code",
   "execution_count": 9,
   "source": [
    "for i in range(1, 101):\r\n",
    "    print('Fizz'*(i % 3 == 0)+'Buzz'*(i % 5 == 0) or i, end=' ')\r\n",
    "    if (i%10 == 0):\r\n",
    "        print()"
   ],
   "outputs": [
    {
     "output_type": "stream",
     "name": "stdout",
     "text": [
      "1 2 Fizz 4 Buzz Fizz 7 8 Fizz Buzz \n",
      "11 Fizz 13 14 FizzBuzz 16 17 Fizz 19 Buzz \n",
      "Fizz 22 23 Fizz Buzz 26 Fizz 28 29 FizzBuzz \n",
      "31 32 Fizz 34 Buzz Fizz 37 38 Fizz Buzz \n",
      "41 Fizz 43 44 FizzBuzz 46 47 Fizz 49 Buzz \n",
      "Fizz 52 53 Fizz Buzz 56 Fizz 58 59 FizzBuzz \n",
      "61 62 Fizz 64 Buzz Fizz 67 68 Fizz Buzz \n",
      "71 Fizz 73 74 FizzBuzz 76 77 Fizz 79 Buzz \n",
      "Fizz 82 83 Fizz Buzz 86 Fizz 88 89 FizzBuzz \n",
      "91 92 Fizz 94 Buzz Fizz 97 98 Fizz Buzz \n"
     ]
    }
   ],
   "metadata": {}
  },
  {
   "cell_type": "markdown",
   "source": [
    "## 16.3 시퀀스 객체 반복"
   ],
   "metadata": {}
  },
  {
   "cell_type": "code",
   "execution_count": 10,
   "source": [
    "fruits = ['apple', 'banana', 'cherry']\r\n",
    "for element in fruits:\r\n",
    "    print(element)"
   ],
   "outputs": [
    {
     "output_type": "stream",
     "name": "stdout",
     "text": [
      "apple\n",
      "banana\n",
      "cherry\n"
     ]
    }
   ],
   "metadata": {}
  },
  {
   "cell_type": "code",
   "execution_count": 11,
   "source": [
    "fruit_list = ['apple', 'banana', 'cherry']\r\n",
    "for fruit in fruit_list:\r\n",
    "    print(fruit)"
   ],
   "outputs": [
    {
     "output_type": "stream",
     "name": "stdout",
     "text": [
      "apple\n",
      "banana\n",
      "cherry\n"
     ]
    }
   ],
   "metadata": {}
  },
  {
   "cell_type": "code",
   "execution_count": 12,
   "source": [
    "for letter in 'Python':\r\n",
    "    print(letter, end=' ')"
   ],
   "outputs": [
    {
     "output_type": "stream",
     "name": "stdout",
     "text": [
      "P y t h o n "
     ]
    }
   ],
   "metadata": {}
  },
  {
   "cell_type": "code",
   "execution_count": 13,
   "source": [
    "for letter in reversed('Python'):\r\n",
    "    print(letter, end=' ')"
   ],
   "outputs": [
    {
     "output_type": "stream",
     "name": "stdout",
     "text": [
      "n o h t y P "
     ]
    }
   ],
   "metadata": {}
  },
  {
   "cell_type": "code",
   "execution_count": 14,
   "source": [
    "for number in (1, 2, 3):\r\n",
    "    print(number)"
   ],
   "outputs": [
    {
     "output_type": "stream",
     "name": "stdout",
     "text": [
      "1\n",
      "2\n",
      "3\n"
     ]
    }
   ],
   "metadata": {}
  },
  {
   "cell_type": "code",
   "execution_count": 18,
   "source": [
    "#Perfect Nuber : 자기자신을 제외한 약수의 합이 자기자신과 같은 수\r\n",
    "# 6의 약수 1, 2, 3, 6\r\n",
    "# 6 = 1+2+3\r\n",
    "# 10000 이하의 자연수 중 4개 찾기\r\n",
    "\r\n",
    "for i in range(2, 11):\r\n",
    "    for k in range(1, i):\r\n",
    "        if i % k == 0:\r\n",
    "            print(f'{k}은/는 {i}의 약수')\r\n",
    "            "
   ],
   "outputs": [
    {
     "output_type": "stream",
     "name": "stdout",
     "text": [
      "1은/는 2의 약수\n",
      "1은/는 3의 약수\n",
      "1은/는 4의 약수\n",
      "2은/는 4의 약수\n",
      "1은/는 5의 약수\n",
      "1은/는 6의 약수\n",
      "2은/는 6의 약수\n",
      "3은/는 6의 약수\n",
      "1은/는 7의 약수\n",
      "1은/는 8의 약수\n",
      "2은/는 8의 약수\n",
      "4은/는 8의 약수\n",
      "1은/는 9의 약수\n",
      "3은/는 9의 약수\n",
      "1은/는 10의 약수\n",
      "2은/는 10의 약수\n",
      "5은/는 10의 약수\n"
     ]
    }
   ],
   "metadata": {}
  },
  {
   "cell_type": "code",
   "execution_count": 21,
   "source": [
    "for i in range(2, 11):\r\n",
    "    for k in range(1, i):\r\n",
    "        if i % k == 0:\r\n",
    "            if (i - k) == 0:\r\n",
    "                print(i)"
   ],
   "outputs": [],
   "metadata": {}
  },
  {
   "cell_type": "code",
   "execution_count": 29,
   "source": [
    "for i in range(2, 10001):\r\n",
    "    x = 0\r\n",
    "    for j in range(1, i):\r\n",
    "        if i % j == 0:\r\n",
    "            x += j\r\n",
    "    if x == i:\r\n",
    "        print(i, end=', ')"
   ],
   "outputs": [
    {
     "output_type": "stream",
     "name": "stdout",
     "text": [
      "6, 28, 496, 8128, "
     ]
    }
   ],
   "metadata": {}
  }
 ],
 "metadata": {
  "orig_nbformat": 4,
  "language_info": {
   "name": "python",
   "version": "3.8.10",
   "mimetype": "text/x-python",
   "codemirror_mode": {
    "name": "ipython",
    "version": 3
   },
   "pygments_lexer": "ipython3",
   "nbconvert_exporter": "python",
   "file_extension": ".py"
  },
  "kernelspec": {
   "name": "python3",
   "display_name": "Python 3.8.10 64-bit ('base': conda)"
  },
  "interpreter": {
   "hash": "20e1214a8bdb2e2c2b34d6c87bb951f9c9d2bc9eb3a38bf18f3ccb00b0b17c39"
  }
 },
 "nbformat": 4,
 "nbformat_minor": 2
}