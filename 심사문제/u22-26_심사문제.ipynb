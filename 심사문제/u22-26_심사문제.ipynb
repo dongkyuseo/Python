{
 "cells": [
  {
   "cell_type": "markdown",
   "source": [
    "# U22\r\n",
    "- 22.10 심사문제: 2의 거듭제곱 리스트 생성하기<br>\r\n",
    "표준 입력으로 정수 두 개가 입력됩니다(첫 번째 입력 값의 범위는 1~20, 두 번째 입력 값의 범위는 10~30이며 첫 번째 입력 값은 두 번째 입력 값보다 항상 작습니다). 첫 번째 정수부터 두 번째 정수까지를 지수로 하는 2의 거듭제곱 리스트를 출력하는 프로그램을 만드세요(input에서 안내 문자열은 출력하지 않아야 합니다). 단, 리스트의 두 번째 요소와 뒤에서 두 번째 요소는 삭제한 뒤 출력하세요. 출력 결과는 리스트 형태라야 합니다."
   ],
   "metadata": {}
  },
  {
   "cell_type": "code",
   "execution_count": 172,
   "source": [
    "first, second = map(int, input().split())\r\n",
    "test = []\r\n",
    "for i in range(first, second+1):\r\n",
    "    test.append(2**i)\r\n",
    "test.pop(1)\r\n",
    "test.pop(-2)\r\n",
    "print(test)"
   ],
   "outputs": [
    {
     "output_type": "stream",
     "name": "stdout",
     "text": [
      "[2, 8, 16, 32, 64, 128, 256, 1024]\n"
     ]
    }
   ],
   "metadata": {}
  },
  {
   "cell_type": "markdown",
   "source": [
    "# U23\r\n",
    "- 23.7 심사문제: 지뢰찾기\r\n",
    "표준 입력으로 2차원 리스트의 가로(col)와 세로(row)가 입력되고 그 다음 줄부터 리스트의 요소로 들어갈 문자가 입력됩니다. 이때 2차원 리스트 안에서 *는 지뢰이고 .은 지뢰가 아닙니다. 지뢰가 아닌 요소에는 인접한 지뢰의 개수를 출력하는 프로그램을 만드세요(input에서 안내 문자열은 출력하지 않아야 합니다).\r\n",
    "\r\n",
    "여러 줄을 입력 받으려면 다음과 같이 for 반복문에서 input을 호출한 뒤 append로 각 줄을 추가하면 됩니다(list 안에 문자열을 넣으면 문자열이 문자 리스트로 변환됩니다).\r\n",
    "\r\n",
    "matrix = []\r\n",
    "for i in range(row):\r\n",
    "    matrix.append(list(input()))\r\n",
    "이 문제는 지금까지 심사문제 중에서 가장 어렵습니다. 처음 풀어보는 경우 대략 두 시간은 걸립니다. 시간을 두고 천천히 고민해서 풀어보세요. 지금까지 학습한 내용을 모두 동원해야 풀 수 있으며 막힐 때는 지금까지 학습한 내용을 다시 복습하면서 힌트를 찾아보세요."
   ],
   "metadata": {}
  },
  {
   "cell_type": "code",
   "execution_count": 176,
   "source": [
    "# col, row +2 한 matrix를 만들어 계산해보기\r\n",
    "col, row = map(int, input().split())\r\n",
    "\r\n",
    "matrix1 = []\r\n",
    "for i in range(row):\r\n",
    "    matrix1.append(list(input()))\r\n",
    "\r\n",
    "matrix2 = []\r\n",
    "for i in range(row + 2):\r\n",
    "    matrix2.append(list('.'*(col + 2)))\r\n",
    "\r\n",
    "for i in range(row):\r\n",
    "    for k in range(col):\r\n",
    "        matrix2[i+1][k+1] = matrix1[i][k]\r\n",
    "\r\n",
    "for r in range(row):\r\n",
    "    for c in range(col):\r\n",
    "        count = 0\r\n",
    "        if matrix2[r+1][c+1] == '.':\r\n",
    "            for a in range((r+1) - 1, (r+1) + 2):\r\n",
    "                for b in range((c+1) -1, (c+1) +2):\r\n",
    "                    if matrix2[a][b] == '*':\r\n",
    "                        count += 1\r\n",
    "            matrix1[r][c] = count\r\n",
    "            print(matrix1[r][c], end='')\r\n",
    "        else:\r\n",
    "            print(matrix1[r][c], end='')\r\n",
    "    print()\r\n",
    "\r\n",
    "\r\n"
   ],
   "outputs": [
    {
     "output_type": "stream",
     "name": "stdout",
     "text": [
      "01*21\n",
      "123*1\n",
      "2*532\n",
      "3***1\n",
      "*4*31\n"
     ]
    }
   ],
   "metadata": {}
  },
  {
   "cell_type": "markdown",
   "source": [
    "# U24\r\n",
    "- 24.5 심사문제: 특정 단어 개수 세기\r\n",
    "표준 입력으로 문자열이 입력됩니다. 입력된 문자열에서 'the'의 개수를 출력하는 프로그램을 만드세요(input에서 안내 문자열은 출력하지 않아야 합니다). 단, 모든 문자가 소문자인 'the'만 찾으면 되며 'them', 'there', 'their' 등은 포함하지 않아야 합니다.\r\n",
    "\r\n",
    "예<br>\r\n",
    "입력<br>\r\n",
    "the grown-ups' response, this time, was to advise me to lay aside my drawings of boa constrictors, whether from the inside or the outside, and devote myself instead to geography, history, arithmetic, and grammar. That is why, at the, age of six, I gave up what might have been a magnificent career as a painter. I had been disheartened by the failure of my Drawing Number One and my Drawing Number Two. Grown-ups never understand anything by themselves, and it is tiresome for children to be always and forever explaining things to the.<br>\r\n",
    "결과<br>\r\n",
    "6<br>"
   ],
   "metadata": {}
  },
  {
   "cell_type": "code",
   "execution_count": null,
   "source": [
    "import string\r\n",
    "x = input().split()\r\n",
    "\r\n",
    "count = 0\r\n",
    "for i in x:\r\n",
    "    i = i.strip(string.punctuation + ' ')\r\n",
    "    if 'the' == i:\r\n",
    "        count += 1\r\n",
    "print(count)"
   ],
   "outputs": [],
   "metadata": {}
  },
  {
   "cell_type": "markdown",
   "source": [
    "- 24.6 심사문제: 높은 가격순으로 출력하기\r\n",
    "표준 입력으로 물품 가격 여러 개가 문자열 한 줄로 입력되고, 각 가격은 ;(세미콜론)으로 구분되어 있습니다. 입력된 가격을 높은 가격순으로 출력하는 프로그램을 만드세요(input에서 안내 문자열은 출력하지 않아야 합니다). 이때 가격은 길이를 9로 만든 뒤 오른쪽으로 정렬하고 천단위로 ,(콤마)를 넣으세요.<br>\r\n",
    "예<br>\r\n",
    "입력<br>\r\n",
    "51900;83000;158000;367500;250000;59200;128500;1304000<br>\r\n",
    "결과<br>\r\n",
    "1,304,000<br>\r\n",
    "  367,500<br>\r\n",
    "  250,000<br>\r\n",
    "  158,000<br>\r\n",
    "  128,500<br>\r\n",
    "   83,000<br>\r\n",
    "   59,200<br>\r\n",
    "   51,900<br>\r\n"
   ],
   "metadata": {}
  },
  {
   "cell_type": "code",
   "execution_count": 170,
   "source": [
    "x = list(map(int, input().split(';')))\r\n",
    "\r\n",
    "x.sort(reverse = True)\r\n",
    "\r\n",
    "for i in x:\r\n",
    "    print((f'{i:,d}').rjust(9))"
   ],
   "outputs": [
    {
     "output_type": "stream",
     "name": "stdout",
     "text": [
      "1,304,000\n",
      "  367,500\n",
      "  250,000\n",
      "  158,000\n",
      "  128,500\n",
      "   83,000\n",
      "   59,200\n",
      "   51,900\n"
     ]
    }
   ],
   "metadata": {}
  },
  {
   "cell_type": "markdown",
   "source": [
    "# U25\r\n",
    "- 25.8 심사문제: 딕셔너리에서 특정 값 삭제하기\r\n",
    "표준 입력으로 문자열 여러 개와 숫자 여러 개가 두 줄로 입력되고, 첫 번째 줄은 키, 두 번째 줄은 값으로 하여 딕셔너리를 생성합니다. 다음 코드를 완성하여 딕셔너리에서 키가 'delta'인 키-값 쌍과 값이 30인 키-값 쌍을 삭제하도록 만드세요.\r\n",
    "- judge_dict_del.py<br>\r\n",
    "keys = input().split()<br>\r\n",
    "values = map(int, input().split())<br>\r\n",
    " <br>\r\n",
    "x = dict(zip(keys, values))<br>\r\n",
    " <br>\r\n",
    "________________<br>\r\n",
    "________________<br>\r\n",
    " <br>\r\n",
    "print(x)<br>"
   ],
   "metadata": {}
  },
  {
   "cell_type": "markdown",
   "source": [
    "예<br>\r\n",
    "입력<br>\r\n",
    "alpha bravo charlie delta<br>\r\n",
    "10 20 30 40<br>\r\n",
    "결과<br>\r\n",
    "{'alpha': 10, 'bravo': 20}<br>\r\n",
    "입력<br>\r\n",
    "alpha bravo charlie delta echo foxtrot golf<br>\r\n",
    "30 40 50 60 70 80 90<br>\r\n",
    "결과<br>\r\n",
    "{'bravo': 40, 'charlie': 50, 'echo': 70, 'foxtrot': 80, 'golf': 90}<br>"
   ],
   "metadata": {}
  },
  {
   "cell_type": "code",
   "execution_count": 171,
   "source": [
    "keys = input().split()\r\n",
    "values = map(int, input().split())\r\n",
    "\r\n",
    "x = dict(zip(keys, values))\r\n",
    "\r\n",
    "del x['delta'] \r\n",
    "# 키 삭제 x.pop('delta') 도 가능\r\n",
    "x = {keys: values for keys, values in x.items() if values != 30}\r\n",
    "# 값 30을 제외한 키와 값으로 딕셔너리를 다시 만듬\r\n",
    "\r\n",
    "print(x)"
   ],
   "outputs": [
    {
     "output_type": "stream",
     "name": "stdout",
     "text": [
      "{'bravo': 40, 'charlie': 50, 'echo': 70, 'foxtrot': 80, 'golf': 90}\n"
     ]
    }
   ],
   "metadata": {}
  },
  {
   "cell_type": "markdown",
   "source": [
    "# U26\r\n",
    "- 26.9 심사문제: 공약수 구하기\r\n",
    "표준 입력으로 양의 정수 두 개가 입력됩니다. 다음 소스 코드를 완성하여 두 숫자의 공약수를 세트 형태로 구하도록 만드세요. 단, 최종 결과는 공약수의 합으로 판단합니다."
   ],
   "metadata": {}
  },
  {
   "cell_type": "code",
   "execution_count": 173,
   "source": [
    "x, y = map(int, input().split())\r\n",
    "a = set()\r\n",
    "for i in range(1, x+1):\r\n",
    "    if x % i == 0:\r\n",
    "        a.add(i)\r\n",
    "\r\n",
    "b = set()\r\n",
    "for k in range(1, y+1):\r\n",
    "    if y % k == 0:\r\n",
    "        b.add(k)\r\n",
    "\r\n",
    "\r\n",
    "divisor = a & b\r\n",
    " \r\n",
    "result = 0\r\n",
    "if type(divisor) == set:\r\n",
    "    result = sum(divisor)\r\n",
    " \r\n",
    "print(result)"
   ],
   "outputs": [
    {
     "output_type": "stream",
     "name": "stdout",
     "text": [
      "18\n"
     ]
    }
   ],
   "metadata": {}
  },
  {
   "cell_type": "code",
   "execution_count": 174,
   "source": [
    "c, d = map(int, input().split())\r\n",
    "\r\n",
    "a = {i for i in range(1, c + 1) if c % i ==0}\r\n",
    "b = {i for i in range(1, d + 1) if d % i ==0}\r\n",
    "\r\n",
    "divisor = a & b\r\n",
    " \r\n",
    "result = 0\r\n",
    "if type(divisor) == set:\r\n",
    "    result = sum(divisor)\r\n",
    " \r\n",
    "print(result)"
   ],
   "outputs": [
    {
     "output_type": "stream",
     "name": "stdout",
     "text": [
      "18\n"
     ]
    }
   ],
   "metadata": {}
  },
  {
   "cell_type": "code",
   "execution_count": null,
   "source": [],
   "outputs": [],
   "metadata": {}
  }
 ],
 "metadata": {
  "orig_nbformat": 4,
  "language_info": {
   "name": "python",
   "version": "3.8.10",
   "mimetype": "text/x-python",
   "codemirror_mode": {
    "name": "ipython",
    "version": 3
   },
   "pygments_lexer": "ipython3",
   "nbconvert_exporter": "python",
   "file_extension": ".py"
  },
  "kernelspec": {
   "name": "python3",
   "display_name": "Python 3.8.10 64-bit ('base': conda)"
  },
  "interpreter": {
   "hash": "20e1214a8bdb2e2c2b34d6c87bb951f9c9d2bc9eb3a38bf18f3ccb00b0b17c39"
  }
 },
 "nbformat": 4,
 "nbformat_minor": 2
}