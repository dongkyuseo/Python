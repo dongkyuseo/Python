{
 "cells": [
  {
   "cell_type": "markdown",
   "source": [
    "# U27\r\n",
    "- 27.6 심사문제: 특정 문자가 들어있는 단어 찾기\r\n",
    "문자열이 저장된 words.txt 파일이 주어집니다(문자열은 한 줄로 저장되어 있습니다). words.txt 파일에서 문자 c가 포함된 단어를 각 줄에 출력하는 프로그램을 만드세요. 단어를 출력할 때는 등장한 순서대로 출력해야 하며 ,(콤마)와 .(점)은 출력하지 않아야 합니다.\r\n",
    "\r\n",
    "- words.txt<br>\r\n",
    "Fortunately, however, for the reputation of Asteroid B-612, a Turkish dictator made a law that his subjects, under pain of death, should change to European costume. So in 1920 the astronomer gave his demonstration all over again, dressed with impressive style and elegance. And this time everybody accepted his report.\r\n",
    "\r\n",
    "- 표준 출력<br>\r\n",
    "dictator<br>\r\n",
    "subjects<br>\r\n",
    "change<br>\r\n",
    "costume<br>\r\n",
    "elegance<br>\r\n",
    "accepted<br>"
   ],
   "metadata": {}
  },
  {
   "cell_type": "code",
   "execution_count": 4,
   "source": [
    "s = 'Fortunately, however, for the reputation of Asteroid B-612, a Turkish dictator made a law that his subjects, under pain of death, should change to European costume. So in 1920 the astronomer gave his demonstration all over again, dressed with impressive style and elegance. And this time everybody accepted his report.'\r\n",
    "with open('word.txt','w') as file:\r\n",
    "    file.write(s)"
   ],
   "outputs": [],
   "metadata": {}
  },
  {
   "cell_type": "code",
   "execution_count": 15,
   "source": [
    "with open('word.txt') as file:\r\n",
    "    for i in file.read().split():\r\n",
    "        i = i.strip(',. ')\r\n",
    "        if 'c' in i:\r\n",
    "            print(i)\r\n"
   ],
   "outputs": [
    {
     "output_type": "stream",
     "name": "stdout",
     "text": [
      "dictator\n",
      "subjects\n",
      "change\n",
      "costume\n",
      "elegance\n",
      "accepted\n"
     ]
    }
   ],
   "metadata": {}
  },
  {
   "cell_type": "markdown",
   "source": [],
   "metadata": {}
  },
  {
   "cell_type": "markdown",
   "source": [
    "# U29\r\n",
    "- 29.4 심사문제: 사칙 연산 함수 만들기<br>\r\n",
    "표준 입력으로 숫자 두 개가 입력됩니다. 다음 소스 코드를 완성하여 두 숫자의 덧셈, 뺄셈, 곱셈, 나눗셈의 결과가 출력되게 만드세요. 이때 나눗셈의 결과는 실수라야 합니다.\r\n",
    "\r\n"
   ],
   "metadata": {}
  },
  {
   "cell_type": "code",
   "execution_count": 21,
   "source": [
    "x, y = map(int, input().split())\r\n",
    "\r\n",
    "def calc(a,b):\r\n",
    "    return a + b, a - b, a * b, a / b\r\n",
    "\r\n",
    "a, s, m, d = calc(x, y)\r\n",
    "print('덧셈: {0}, 뺄셈: {1}, 곱셈: {2}, 나눗셈: {3}'.format(a, s, m, d))"
   ],
   "outputs": [
    {
     "output_type": "stream",
     "name": "stdout",
     "text": [
      "덧셈: 30, 뺄셈: -10, 곱셈: 200, 나눗셈: 0.5\n"
     ]
    }
   ],
   "metadata": {}
  },
  {
   "cell_type": "markdown",
   "source": [
    "# U30\r\n",
    "- 표준 입력으로 국어, 영어, 수학, 과학 점수가 입력됩니다. 다음 소스 코드를 완성하여 가장 높은 점수, 가장 낮은 점수, 평균 점수가 출력되게 만드세요. 평균 점수는 실수로 출력되어야 합니다."
   ],
   "metadata": {}
  },
  {
   "cell_type": "code",
   "execution_count": 33,
   "source": [
    "korean, english, mathematics, science = map(int, input().split())\r\n",
    "\r\n",
    "def get_min_max_score(*args):\r\n",
    "    return min(args), max(args)\r\n",
    "\r\n",
    "def get_average(**kwargs):\r\n",
    "    return sum(kwargs.values()) / len(kwargs)\r\n",
    "\r\n",
    "\r\n",
    "min_score, max_score = get_min_max_score(korean, english, mathematics, science)\r\n",
    "average_score = get_average(korean=korean, english=english,\r\n",
    "                            mathematics=mathematics, science=science)\r\n",
    "print('낮은 점수: {0:.2f}, 높은 점수: {1:.2f}, 평균 점수: {2:.2f}'\r\n",
    "      .format(min_score, max_score, average_score))\r\n",
    " \r\n",
    "min_score, max_score = get_min_max_score(english, science)\r\n",
    "average_score = get_average(english=english, science=science)\r\n",
    "print('낮은 점수: {0:.2f}, 높은 점수: {1:.2f}, 평균 점수: {2:.2f}'\r\n",
    "      .format(min_score, max_score, average_score))"
   ],
   "outputs": [
    {
     "output_type": "stream",
     "name": "stdout",
     "text": [
      "낮은 점수: 73.00, 높은 점수: 92.00, 평균 점수: 84.25\n",
      "낮은 점수: 83.00, 높은 점수: 92.00, 평균 점수: 87.50\n"
     ]
    }
   ],
   "metadata": {}
  },
  {
   "cell_type": "markdown",
   "source": [
    "# U31.\r\n",
    "- 31.5 심사문제: 재귀호출로 피보나치 수 구하기\r\n",
    "표준 입력으로 정수 한 개가 입력됩니다(입력 값의 범위는 10~30). 다음 소스 코드를 완성하여 입력된 정수에 해당하는 피보나치 수가 출력되게 만드세요.\r\n",
    "\r\n",
    "피보나치 수는 0과 1로 시작하며, 다음 번 피보나치 수는 바로 앞의 두 피보나치 수의 합입니다."
   ],
   "metadata": {}
  },
  {
   "cell_type": "code",
   "execution_count": 41,
   "source": [
    "def fib(n):\r\n",
    "    if n == 0 or n == 1:\r\n",
    "        return n\r\n",
    "    return fib(n-1) + fib (n-2)\r\n",
    "        \r\n",
    "\r\n",
    "n = int(input())\r\n",
    "print(fib(n))"
   ],
   "outputs": [
    {
     "output_type": "stream",
     "name": "stdout",
     "text": [
      "6765\n"
     ]
    }
   ],
   "metadata": {}
  }
 ],
 "metadata": {
  "orig_nbformat": 4,
  "language_info": {
   "name": "python",
   "version": "3.8.10",
   "mimetype": "text/x-python",
   "codemirror_mode": {
    "name": "ipython",
    "version": 3
   },
   "pygments_lexer": "ipython3",
   "nbconvert_exporter": "python",
   "file_extension": ".py"
  },
  "kernelspec": {
   "name": "python3",
   "display_name": "Python 3.8.10 64-bit ('base': conda)"
  },
  "interpreter": {
   "hash": "20e1214a8bdb2e2c2b34d6c87bb951f9c9d2bc9eb3a38bf18f3ccb00b0b17c39"
  }
 },
 "nbformat": 4,
 "nbformat_minor": 2
}