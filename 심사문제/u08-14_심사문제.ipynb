{
 "cells": [
  {
   "cell_type": "markdown",
   "source": [
    "# Unit 8"
   ],
   "metadata": {}
  },
  {
   "cell_type": "markdown",
   "source": [
    "## 8.5 심사문제: 합격 여부 출력하기\r\n",
    "표준 입력으로 국어, 영어, 수학, 과학 점수가 입력됩니다.<br>\r\n",
    "국어는 90점 이상, 영어는 80점 초과, 수학은 85점 초과, 과학은 80점 이상일 때 합격이라고 정했습니다.<br>\r\n",
    "(한 과목이라도 조건에 만족하지 않으면 불합격).<br>\r\n",
    "다음 소스 코드를 완성하여 합격이면 True, 불합격이면 False가 출력되게 만드세요(input에서 안내 문자열은 출력하지 않아야 합니다)."
   ],
   "metadata": {}
  },
  {
   "cell_type": "code",
   "execution_count": 2,
   "source": [
    "k, e, m, s = map(int, input('국어, 영어, 수학, 과학점수를 입력하세요>').split())\r\n",
    "# k : 국어, e : 영어, m : 수학, s : 과학\r\n",
    "print(k >= 90 and e > 80 and m >85 and s >= 80)"
   ],
   "outputs": [
    {
     "output_type": "stream",
     "name": "stdout",
     "text": [
      "True\n"
     ]
    }
   ],
   "metadata": {}
  },
  {
   "cell_type": "markdown",
   "source": [
    "# Unit 9"
   ],
   "metadata": {}
  },
  {
   "cell_type": "markdown",
   "source": [
    "## 9.4 심사문제: 여러 줄로 된 문자열 사용하기\r\n",
    "\r\n",
    "- 다음 소스 코드를 완성하여 실행 결과대로 문자열이 출력되게 만드세요.\r\n",
    "\r\n",
    "- judge_multiline_string.py<br>\r\n",
    "________________<br>\r\n",
    "________________<br>\r\n",
    "________________<br>\r\n",
    "________________<br>\r\n",
    "<br>\r\n",
    "print(s)<br>\r\n",
    "예<br>\r\n",
    "결과<br>\r\n",
    "'Python' is a \"programming language\"<br>\r\n",
    "that lets you work quickly<br>\r\n",
    "and<br>\r\n",
    "integrate systems more effectively.<br>"
   ],
   "metadata": {}
  },
  {
   "cell_type": "code",
   "execution_count": null,
   "source": [
    "''''Python' is a \"programming language\"\r\n",
    "that lets you work quickly\r\n",
    "and\r\n",
    "integrate systems more effectively.'''"
   ],
   "outputs": [],
   "metadata": {}
  },
  {
   "cell_type": "code",
   "execution_count": null,
   "source": [
    "\"\"\"'Python' is a \"programming language\"\r\n",
    "that lets you work quickly\r\n",
    "and\r\n",
    "integrate systems more effectively.\"\"\""
   ],
   "outputs": [],
   "metadata": {}
  },
  {
   "cell_type": "markdown",
   "source": [
    "# Unit 10"
   ],
   "metadata": {}
  },
  {
   "cell_type": "markdown",
   "source": [
    "## 10.5 심사문제: range로 튜플 만들기\r\n",
    "- 표준 입력으로 정수가 입력됩니다. <br>range의 시작하는 숫자는 -10, 끝나는 숫자는 10이며 입력된 정수만큼 증가하는 숫자가 들어가도록 튜플을 만들고, 해당 튜플을 출력하는 프로그램을 만드세요.<br>(input에서 안내 문자열은 출력하지 않아야 합니다).\r\n",
    "<br>\r\n",
    "<br>\r\n",
    "입력<br>\r\n",
    "2<br>\r\n",
    "결과<br>\r\n",
    "(-10, -8, -6, -4, -2, 0, 2, 4, 6, 8)<br>\r\n",
    "입력<br>\r\n",
    "3<br>\r\n",
    "결과<br>\r\n",
    "(-10, -7, -4, -1, 2, 5, 8)<br>"
   ],
   "metadata": {}
  },
  {
   "cell_type": "code",
   "execution_count": 17,
   "source": [
    "x = int(input())\r\n",
    "\r\n",
    "print(tuple(range(-10, 10, x)))"
   ],
   "outputs": [
    {
     "output_type": "stream",
     "name": "stdout",
     "text": [
      "[-10, -8, -6, -4, -2, 0, 2, 4, 6, 8]\n"
     ]
    }
   ],
   "metadata": {}
  },
  {
   "cell_type": "markdown",
   "source": [
    "# Unit 11"
   ],
   "metadata": {}
  },
  {
   "cell_type": "markdown",
   "source": [
    "## 11.8 심사문제: 리스트의 마지막 부분 삭제하기\r\n",
    "- 표준 입력으로 숫자 또는 문자열 여러 개가 입력되어 리스트 x에 저장됩니다.<br>\r\n",
    "(입력되는 숫자 또는 문자열의 개수는 정해져 있지 않음).<br>\r\n",
    "다음 소스 코드를 완성하여 리스트 x의 마지막 요소 5개를 삭제한 뒤 튜플로 출력되게 만드세요.<br>\r\n",
    "<br>\r\n",
    "- judge_del_slice.py<br>\r\n",
    "x = input().split()<br>\r\n",
    "<br>\r\n",
    "________________<br>\r\n",
    "________________<br>\r\n",
    "예<br>\r\n",
    "입력<br>\r\n",
    "1 2 3 4 5 6 7 8 9 10<br>\r\n",
    "결과<br>\r\n",
    "('1', '2', '3', '4', '5')<br>\r\n",
    "입력<br>\r\n",
    "oven bat pony total leak wreck curl crop space navy loss knee<br>\r\n",
    "결과<br>\r\n",
    "('oven', 'bat', 'pony', 'total', 'leak', 'wreck', 'curl')<br>\r\n"
   ],
   "metadata": {}
  },
  {
   "cell_type": "code",
   "execution_count": 27,
   "source": [
    "x = input().split()\r\n",
    "x = x[:-5]\r\n",
    "print(tuple(x))\r\n"
   ],
   "outputs": [
    {
     "output_type": "stream",
     "name": "stdout",
     "text": [
      "('1', '2', '3', '4', '5')\n"
     ]
    }
   ],
   "metadata": {}
  },
  {
   "cell_type": "markdown",
   "source": [
    "## 11.9 심사문제: 문자열에서 인덱스가 홀수인 문자와 짝수인 문자 연결하기\r\n",
    "- 표준 입력으로 문자열 두 개가 각 줄에 입력됩니다(문자열의 길이는 정해져 있지 않음). <br>\r\n",
    "첫 번째 문자열에서 인덱스가 홀수인 문자와 두 번째 문자열에서 인덱스가 짝수인 문자를 연결하여 출력하는 프로그램을 만드세요.<br>\r\n",
    "(input에서 안내 문자열은 출력하지 않아야 합니다). <br>\r\n",
    "연결 순서는 첫 번째 문자열, 두 번째 문자열 순입니다. <br>\r\n",
    "그리고 0은 짝수로 처리합니다.<br>\r\n",
    "<br>\r\n",
    "- judge_slice_concatenation.py<br>\r\n",
    "________________<br>\r\n",
    "________________<br>\r\n",
    "________________<br>\r\n",
    "예<br>\r\n",
    "입력<br>\r\n",
    "python<br>\r\n",
    "python<br>\r\n",
    "결과<br>\r\n",
    "yhnpto<br>\r\n",
    "입력<br>\r\n",
    "apple<br>\r\n",
    "strawberry<br>\r\n",
    "결과<br>\r\n",
    "plsrwer<br>"
   ],
   "metadata": {}
  },
  {
   "cell_type": "code",
   "execution_count": 29,
   "source": [
    "first = input()\r\n",
    "second = input()\r\n",
    "\r\n",
    "print(first[1::2]+second[::2])"
   ],
   "outputs": [
    {
     "output_type": "stream",
     "name": "stdout",
     "text": [
      "plsrwer\n"
     ]
    }
   ],
   "metadata": {}
  },
  {
   "cell_type": "markdown",
   "source": [
    "# Unit 12"
   ],
   "metadata": {}
  },
  {
   "cell_type": "markdown",
   "source": [
    "## 12.5 심사문제: 딕셔너리에 게임 캐릭터 능력치 저장하기\r\n",
    "- 표준 입력으로 문자열 여러 개와 숫자(실수) 여러 개가 두 줄로 입력됩니다. <br>\r\n",
    "입력된 첫 번째 줄은 키, 두 번째 줄은 값으로 하여 딕셔너리를 생성한 뒤 딕셔너리를 출력하는 프로그램을 만드세요.<br>\r\n",
    "input().split()의 결과를 변수 한 개에 저장하면 리스트로 저장됩니다.<br>\r\n",
    "<br>\r\n",
    "- judge_dict.py<br>\r\n",
    "________________<br>\r\n",
    "________________<br>\r\n",
    "________________<br>\r\n",
    "________________<br>\r\n",
    "예<br>\r\n",
    "입력<br>\r\n",
    "health health_regen mana mana_regen<br>\r\n",
    "575.6 1.7 338.8 1.63<br>\r\n",
    "결과<br>\r\n",
    "{'health': 575.6, 'health_regen': 1.7, 'mana': 338.8, 'mana_regen': 1.63}<br>\r\n",
    "입력<br>\r\n",
    "health mana melee attack_speed magic_resistance<br>\r\n",
    "573.6 308.8 600 0.625 35.7<br>\r\n",
    "결과<br>\r\n",
    "{'health': 573.6, 'mana': 308.8, 'melee': 600.0, 'attack_speed': 0.625, 'magic_resistance': 35.7}<br>"
   ],
   "metadata": {}
  },
  {
   "cell_type": "code",
   "execution_count": 32,
   "source": [
    "first = input().split()\r\n",
    "second = map(float, input().split())\r\n",
    "\r\n",
    "print(dict(zip(first, second)))"
   ],
   "outputs": [
    {
     "output_type": "stream",
     "name": "stdout",
     "text": [
      "{'health': 575.6, 'health_regen': 1.7, 'mana': 338.8, 'mana_regen': 1.63}\n"
     ]
    }
   ],
   "metadata": {}
  },
  {
   "cell_type": "markdown",
   "source": [
    "# Unit 13"
   ],
   "metadata": {}
  },
  {
   "cell_type": "markdown",
   "source": [
    "## 13.7 심사문제: 온라인 할인 쿠폰 시스템 만들기\r\n",
    "- 표준 입력으로 가격(정수)과 쿠폰 이름이 각 줄에 입력됩니다.<br> \r\n",
    "Cash3000 쿠폰은 3,000원, Cash5000 쿠폰은 5,000원을 할인합니다. <br>\r\n",
    "쿠폰에 따라 할인된 가격을 출력하는 프로그램을 만드세요.<br>\r\n",
    "(input에서 안내 문자열은 출력하지 않아야 합니다).<br>\r\n",
    "\r\n",
    "- judge_if.py<br>\r\n",
    "________________<br>\r\n",
    "________________<br>\r\n",
    "________________<br>\r\n",
    "________________<br>\r\n",
    "________________<br>\r\n",
    "________________<br>\r\n",
    "________________<br>\r\n",
    "예<br>\r\n",
    "입력<br>\r\n",
    "27000<br>\r\n",
    "Cash3000<br>\r\n",
    "결과<br>\r\n",
    "24000<br>\r\n",
    "입력<br>\r\n",
    "72000<br>\r\n",
    "Cash5000<br>\r\n",
    "결과<br>\r\n",
    "67000<br>"
   ],
   "metadata": {}
  },
  {
   "cell_type": "code",
   "execution_count": 35,
   "source": [
    "cash = int(input())\r\n",
    "coupon = input()\r\n",
    "\r\n",
    "if coupon == 'Cash3000':\r\n",
    "    cash -= 3000\r\n",
    "if coupon == 'Cash5000':\r\n",
    "    cash -= 5000\r\n",
    "print(cash)"
   ],
   "outputs": [
    {
     "output_type": "stream",
     "name": "stdout",
     "text": [
      "67000\n"
     ]
    }
   ],
   "metadata": {}
  },
  {
   "cell_type": "code",
   "execution_count": 38,
   "source": [
    "cash = int(input())\r\n",
    "coupon = input()\r\n",
    "\r\n",
    "if coupon == 'Cash3000':\r\n",
    "    cash -= 3000\r\n",
    "    print(cash)\r\n",
    "else:\r\n",
    "    if coupon == 'Cash5000':\r\n",
    "        cash -= 5000\r\n",
    "    print(cash)"
   ],
   "outputs": [
    {
     "output_type": "stream",
     "name": "stdout",
     "text": [
      "67000\n"
     ]
    }
   ],
   "metadata": {}
  },
  {
   "cell_type": "code",
   "execution_count": 39,
   "source": [
    "cash = int(input())\r\n",
    "coupon = input()\r\n",
    "\r\n",
    "if coupon == 'Cash3000':\r\n",
    "    cash -= 3000\r\n",
    "elif coupon == 'Cash5000':\r\n",
    "    cash -= 5000\r\n",
    "print(cash)"
   ],
   "outputs": [
    {
     "output_type": "stream",
     "name": "stdout",
     "text": [
      "67000\n"
     ]
    }
   ],
   "metadata": {}
  },
  {
   "cell_type": "markdown",
   "source": [
    "# Unit 14"
   ],
   "metadata": {}
  },
  {
   "cell_type": "markdown",
   "source": [
    "## 14.7 심사문제: 합격 여부 판단하기\r\n",
    "- 표준 입력으로 국어, 영어, 수학, 과학 점수가 입력됩니다. <br>\r\n",
    "여기서 네 과목의 평균 점수가 80점 이상일 때 합격이라고 정했습니다. <br>\r\n",
    "평균 점수에 따라 '합격', '불합격'을 출력하는 프로그램을 만드세요.<br>\r\n",
    "(input에서 안내 문자열은 출력하지 않아야 합니다). <br>\r\n",
    "단, 점수는 0점부터 100점까지만 입력받을 수 있으며 범위를 벗어났다면 '잘못된 점수'를 출력하고 합격, 불합격 여부는 출력하지 않아야 합니다.\r\n",
    "\r\n",
    "- judge_if_else.py<br>\r\n",
    "________________<br>\r\n",
    "________________<br>\r\n",
    "________________<br>\r\n",
    "________________<br>\r\n",
    "________________<br>\r\n",
    "________________<br>\r\n",
    "________________<br>\r\n",
    "________________<br>\r\n",
    "예<br>\r\n",
    "입력<br>\r\n",
    "89 72 93 82<br>\r\n",
    "결과<br>\r\n",
    "합격<br>\r\n",
    "입력<br>\r\n",
    "100 79 68 71<br>\r\n",
    "결과<br>\r\n",
    "불합격<br>\r\n",
    "입력<br>\r\n",
    "99 85 101 90<br>\r\n",
    "결과<br>\r\n",
    "잘못된 점수<br>"
   ],
   "metadata": {}
  },
  {
   "cell_type": "code",
   "execution_count": 1,
   "source": [
    "# k : 국어, e : 영어, m : 수학, s : 과학\r\n",
    "k, e, m, s = map(int, input().split())\r\n",
    "\r\n",
    "if 100 >= k >= 0 and 100 >= e >= 0 and 100 >= m >= 0 and 100 >= s >= 0 :\r\n",
    "    if (k+e+m+s)/4 >= 80:\r\n",
    "        print('합격')\r\n",
    "    else:\r\n",
    "        print('불합격')\r\n",
    "else:\r\n",
    "    print('잘못된 점수')"
   ],
   "outputs": [
    {
     "output_type": "stream",
     "name": "stdout",
     "text": [
      "불합격\n"
     ]
    }
   ],
   "metadata": {}
  },
  {
   "cell_type": "code",
   "execution_count": null,
   "source": [],
   "outputs": [],
   "metadata": {}
  }
 ],
 "metadata": {
  "orig_nbformat": 4,
  "language_info": {
   "name": "python",
   "version": "3.8.10",
   "mimetype": "text/x-python",
   "codemirror_mode": {
    "name": "ipython",
    "version": 3
   },
   "pygments_lexer": "ipython3",
   "nbconvert_exporter": "python",
   "file_extension": ".py"
  },
  "kernelspec": {
   "name": "python3",
   "display_name": "Python 3.8.10 64-bit ('base': conda)"
  },
  "interpreter": {
   "hash": "20e1214a8bdb2e2c2b34d6c87bb951f9c9d2bc9eb3a38bf18f3ccb00b0b17c39"
  }
 },
 "nbformat": 4,
 "nbformat_minor": 2
}