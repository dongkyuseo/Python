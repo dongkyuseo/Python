{
 "cells": [
  {
   "cell_type": "markdown",
   "source": [
    "# U32\r\n",
    "- 32.5 심사문제: 파일 이름을 한꺼번에 바꾸기<br>\r\n",
    "표준 입력으로 숫자.확장자 형식으로 된 파일 이름 여러 개가 입력됩니다. 다음 소스 코드를 완성하여 파일 이름이 숫자 3개이면서 앞에 0이 들어가는 형식으로 출력되게 만드세요. 예를 들어 1.png는 001.png, 99.docx는 099.docx, 100.xlsx는 100.xlsx처럼 출력되어야 합니다. 그리고 람다 표현식을 사용해야 하며 출력 결과는 리스트 형태라야 합니다. 람다 표현식에서 파일명을 처리할 때는 문자열 포매팅과 문자열 메서드를 활용하세요.<br>\r\n",
    "<br>\r\n",
    "입력<br>\r\n",
    "1.jpg 10.png 11.png 2.jpg 3.png<br>\r\n",
    "결과<br>\r\n",
    "['001.jpg', '010.png', '011.png', '002.jpg', '003.png']<br>"
   ],
   "metadata": {}
  },
  {
   "cell_type": "code",
   "execution_count": 2,
   "source": [
    "files = input().split()\r\n",
    " \r\n",
    "print(list(map(lambda x: '{0:03d}.{1}'.format(int(x.split('.')[0]), x.split('.')[1]), files)))"
   ],
   "outputs": [
    {
     "output_type": "stream",
     "name": "stdout",
     "text": [
      "['001.jpg', '010.png', '011.png', '002.jpg', '003.png']\n"
     ]
    }
   ],
   "metadata": {}
  },
  {
   "cell_type": "markdown",
   "source": [
    "# U33\r\n",
    "- 33.6 심사문제: 카운트다운 함수 만들기\r\n",
    "\r\n",
    "표준 입력으로 정수가 입력됩니다. 다음 소스 코드를 완성하여 함수 c를 호출할 때마다 숫자가 1씩 줄어들게 만드세요. 여기서는 함수를 클로저로 만들어야 합니다. 정답에 코드를 작성할 때는 def countdown(n):에 맞춰서 들여쓰기를 해주세요."
   ],
   "metadata": {}
  },
  {
   "cell_type": "code",
   "execution_count": 10,
   "source": [
    "def countdown(n):\r\n",
    "    i = n+1\r\n",
    "    def count():\r\n",
    "        nonlocal i\r\n",
    "        i -= 1\r\n",
    "        return i\r\n",
    "    return count\r\n",
    "\r\n",
    "n = int(input())\r\n",
    " \r\n",
    "c = countdown(n)\r\n",
    "for i in range(n):\r\n",
    "    print(c(), end=' ')"
   ],
   "outputs": [
    {
     "output_type": "stream",
     "name": "stdout",
     "text": [
      "10 9 8 7 6 5 4 3 2 1 "
     ]
    }
   ],
   "metadata": {}
  },
  {
   "cell_type": "markdown",
   "source": [
    "# U34\r\n",
    "- 34.6 심사문제: 게임 캐릭터 클래스 만들기\r\n",
    "\r\n",
    "표준 입력으로 게임 캐릭터 능력치(체력, 마나, AP)가 입력됩니다. 다음 소스 코드에서 애니(Annie) 클래스를 작성하여 티버(tibbers) 스킬의 피해량이 출력되게 만드세요. 티버의 피해량은 AP * 0.65 + 400이며 AP(Ability Power, 주문력)는 마법 능력치를 뜻합니다.\r\n",
    "\r\n"
   ],
   "metadata": {}
  },
  {
   "cell_type": "code",
   "execution_count": 12,
   "source": [
    "class Annie:\r\n",
    "    def __init__(self, **kwargs):\r\n",
    "        self.health = health\r\n",
    "        self.mana = mana\r\n",
    "        self.ability_power = ability_power\r\n",
    "    \r\n",
    "    def tibbers(self):\r\n",
    "        super().__init__()\r\n",
    "        print(f'티버: 피해량 {self.ability_power*0.65+400}')\r\n",
    "\r\n",
    "health, mana, ability_power = map(float, input().split())\r\n",
    " \r\n",
    "x = Annie(health=health, mana=mana, ability_power=ability_power)\r\n",
    "x.tibbers()"
   ],
   "outputs": [
    {
     "output_type": "stream",
     "name": "stdout",
     "text": [
      "티버: 피해량 819.25\n"
     ]
    }
   ],
   "metadata": {}
  },
  {
   "cell_type": "markdown",
   "source": [
    "# U35\r\n",
    "- 35.6 심사문제: 시간 클래스 만들기\r\n",
    "\r\n",
    "표준 입력으로 시:분:초 형식의 시간이 입력됩니다. 다음 소스 코드에서 Time 클래스를 완성하여 시, 분, 초가 출력되게 만드세요. from_string은 문자열로 인스턴스를 만드는 메서드이며 is_time_valid는 문자열이 올바른 시간인지 검사하는 메서드입니다. 시간은 24시까지, 분은 59분까지, 초는 60초까지 있어야 합니다. 정답에 코드를 작성할 때는 class Time:에 맞춰서 들여쓰기를 해주세요."
   ],
   "metadata": {}
  },
  {
   "cell_type": "code",
   "execution_count": 27,
   "source": [
    "class Time:\r\n",
    "    def __init__(self, hour, minute, second):\r\n",
    "        self.hour = hour\r\n",
    "        self.minute = minute\r\n",
    "        self.second = second\r\n",
    " \r\n",
    "    def is_time_valid(time_string):\r\n",
    "        hour, minute, second = map(int, time_string.split(':'))\r\n",
    "        if hour <= 24 and minute <= 59 and second <= 60:\r\n",
    "            return True\r\n",
    "        return False \r\n",
    "\r\n",
    "    @classmethod\r\n",
    "    def from_string(cls, time_string):\r\n",
    "        hour, minute, second = map(int, time_string.split(':'))\r\n",
    "        t = cls(hour, minute, second)\r\n",
    "        return t\r\n",
    "\r\n",
    "\r\n",
    "\r\n",
    " \r\n",
    "time_string = input()\r\n",
    " \r\n",
    "if Time.is_time_valid(time_string):\r\n",
    "    t = Time.from_string(time_string)\r\n",
    "    print(t.hour, t.minute, t.second)\r\n",
    "else:\r\n",
    "    print('잘못된 시간 형식입니다.')"
   ],
   "outputs": [
    {
     "output_type": "stream",
     "name": "stdout",
     "text": [
      "23 35 59\n"
     ]
    }
   ],
   "metadata": {}
  },
  {
   "cell_type": "markdown",
   "source": [
    "# U36\r\n",
    "- 36.9 심사문제: 다중 상속 사용하기\r\n",
    "\r\n",
    "다음 소스 코드에서 동물 클래스 Animal과 날개 클래스 Wing을 상속받아 새 클래스 Bird를 작성하여 '먹다', '파닥거리다', '날다', True, True가 각 줄에 출력되게 만드세요."
   ],
   "metadata": {}
  },
  {
   "cell_type": "code",
   "execution_count": 28,
   "source": [
    "class Animal:\r\n",
    "    def eat(self):\r\n",
    "        print('먹다')\r\n",
    " \r\n",
    "class Wing:\r\n",
    "    def flap(self):\r\n",
    "        print('파닥거리다')\r\n",
    "\r\n",
    "class Bird(Animal, Wing):\r\n",
    "    def fly(self):\r\n",
    "        print('날다')\r\n",
    "\r\n",
    "b = Bird()\r\n",
    "b.eat()\r\n",
    "b.flap()\r\n",
    "b.fly()\r\n",
    "print(issubclass(Bird, Animal))\r\n",
    "print(issubclass(Bird, Wing))"
   ],
   "outputs": [
    {
     "output_type": "stream",
     "name": "stdout",
     "text": [
      "먹다\n",
      "파닥거리다\n",
      "날다\n",
      "True\n",
      "True\n"
     ]
    }
   ],
   "metadata": {}
  },
  {
   "cell_type": "code",
   "execution_count": null,
   "source": [],
   "outputs": [],
   "metadata": {}
  }
 ],
 "metadata": {
  "orig_nbformat": 4,
  "language_info": {
   "name": "python",
   "version": "3.8.10",
   "mimetype": "text/x-python",
   "codemirror_mode": {
    "name": "ipython",
    "version": 3
   },
   "pygments_lexer": "ipython3",
   "nbconvert_exporter": "python",
   "file_extension": ".py"
  },
  "kernelspec": {
   "name": "python3",
   "display_name": "Python 3.8.10 64-bit ('base': conda)"
  },
  "interpreter": {
   "hash": "20e1214a8bdb2e2c2b34d6c87bb951f9c9d2bc9eb3a38bf18f3ccb00b0b17c39"
  }
 },
 "nbformat": 4,
 "nbformat_minor": 2
}