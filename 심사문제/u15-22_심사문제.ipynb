{
 "cells": [
  {
   "cell_type": "markdown",
   "source": [
    "# U.15\r\n",
    "\r\n",
    "- 15.4 심사문제: 교통카드 시스템 만들기<br>\r\n",
    "<br>\r\n",
    "표준 입력으로 나이(만 나이)가 입력됩니다(입력 값은 7 이상 입력됨).<br>\r\n",
    "교통카드 시스템에서 시내버스 요금은 다음과 같으며 각 나이에 맞게 요금을 차감한 뒤 잔액이 출력되게 만드세요.(if, elif 사용).<br>\r\n",
    "현재 교통카드에는 9,000원이 들어있습니다.<br>\r\n",
    "<br>\r\n",
    "어린이(초등학생, 만 7세 이상 12세 이하): 650원<br>\r\n",
    "청소년(중∙고등학생, 만 13세 이상 18세 이하): 1,050원<br>\r\n",
    "어른(일반, 만 19세 이상): 1,250원<br>"
   ],
   "metadata": {}
  },
  {
   "cell_type": "code",
   "execution_count": 1,
   "source": [
    "age = int(input())\r\n",
    "balance = 9000    # 교통카드 잔액\r\n",
    "\r\n",
    "if 7<= age <= 12:\r\n",
    "    balance -= 650\r\n",
    "elif 13<= age <=18:\r\n",
    "    balance -= 1050\r\n",
    "elif 19 <= age :\r\n",
    "    balance -= 1250\r\n",
    "\r\n",
    "print(balance)"
   ],
   "outputs": [
    {
     "output_type": "stream",
     "name": "stdout",
     "text": [
      "8350\n"
     ]
    }
   ],
   "metadata": {}
  },
  {
   "cell_type": "markdown",
   "source": [
    "# U.16\r\n",
    "- 16.6 심사문제: 구구단 출력하기<br>\r\n",
    "표준 입력으로 정수가 입력됩니다.<br>\r\n",
    "입력된 정수의 구구단을 출력하는 프로그램을 만드세요(input에서 안내 문자열은 출력하지 않아야 합니다).<br>\r\n",
    "출력 형식은 숫자 * 숫자 = 숫자처럼 만들고 숫자와 *, = 사이는 공백을 한 칸 띄웁니다.<br>"
   ],
   "metadata": {}
  },
  {
   "cell_type": "code",
   "execution_count": null,
   "source": [
    "x = int(input())\r\n",
    "for i in range(1,10):\r\n",
    "    print(x,'*',i,'=',x*i)"
   ],
   "outputs": [],
   "metadata": {}
  },
  {
   "cell_type": "markdown",
   "source": [
    "# U17\r\n",
    "- 17.6 심사문제: 교통카드 잔액 출력하기<br>\r\n",
    "표준 입력으로 금액(정수)이 입력됩니다. <br>\r\n",
    "1회당 요금은 1,350원이고, 교통카드를 사용했을 때마다의 잔액을 각 줄에 출력하는 프로그램을 만드세요.<br>(input에서 안내 문자열은 출력하지 않아야 합니다). <br>\r\n",
    "단, 최초 금액은 출력하지 않아야 합니다. <br>\r\n",
    "그리고 잔액은 음수가 될 수 없으며 잔액이 부족하면 출력을 끝냅니다.\r\n"
   ],
   "metadata": {}
  },
  {
   "cell_type": "code",
   "execution_count": 2,
   "source": [
    "cash = int(input())\r\n",
    "if cash > 1350:\r\n",
    "    for i in range(cash // 1350):\r\n",
    "        cash -= 1350\r\n",
    "        print(cash)"
   ],
   "outputs": [
    {
     "output_type": "stream",
     "name": "stdout",
     "text": [
      "8650\n",
      "7300\n",
      "5950\n",
      "4600\n",
      "3250\n",
      "1900\n",
      "550\n"
     ]
    }
   ],
   "metadata": {}
  },
  {
   "cell_type": "code",
   "execution_count": null,
   "source": [
    "cash =int(input())\r\n",
    "\r\n",
    "while cash >=1350:\r\n",
    "    cash -= 1350\r\n",
    "    print(cash)"
   ],
   "outputs": [],
   "metadata": {}
  },
  {
   "cell_type": "markdown",
   "source": [
    "# U18\r\n",
    "- 18.6 심사문제: 두 수 사이의 숫자 중 3으로 끝나지 않는 숫자 출력하기<br>\r\n",
    "표준 입력으로 정수 두 개가 입력됩니다(첫 번째 입력 값의 범위는 1~200, 두 번째 입력 값의 범위는 10~200이며 첫 번째 입력 값은 두 번째 입력 값보다 항상 작습니다). 다음 소스 코드를 완성하여 첫 번째 정수와 두 번째 정수 사이의 숫자 중 3으로 끝나지 않는 숫자가 출력되게 만드세요. 정답에 코드를 작성할 때는 while True:에 맞춰서 들여쓰기를 해주세요.\r\n"
   ],
   "metadata": {}
  },
  {
   "cell_type": "code",
   "execution_count": 3,
   "source": [
    "start, stop = map(int, input().split())\r\n",
    " \r\n",
    "i = start\r\n",
    " \r\n",
    "while True:\r\n",
    "    if i % 10 == 3:\r\n",
    "        i += 1\r\n",
    "        continue\r\n",
    "    if i> stop:\r\n",
    "        break\r\n",
    "    print(i, end=' ')\r\n",
    "    i += 1"
   ],
   "outputs": [
    {
     "output_type": "stream",
     "name": "stdout",
     "text": [
      "1 2 4 5 6 7 8 9 10 "
     ]
    }
   ],
   "metadata": {}
  },
  {
   "cell_type": "markdown",
   "source": [
    "# U19\r\n",
    "- 19.6 심사문제: 산 모양으로 별 출력하기<br>\r\n",
    "표준 입력으로 삼각형의 높이가 입력됩니다. 입력된 높이만큼 산 모양으로 별을 출력하는 프로그램을 만드세요(input에서 안내 문자열은 출력하지 않아야 합니다). 이때 출력 결과는 예제와 정확히 일치해야 합니다. 모양이 같더라도 공백이나 빈 줄이 더 들어가면 틀린 것으로 처리됩니다."
   ],
   "metadata": {}
  },
  {
   "cell_type": "code",
   "execution_count": null,
   "source": [
    "count = int(input())\r\n",
    "\r\n",
    "for i in range(count):\r\n",
    "    for k in reversed(range(count)):\r\n",
    "        if i < k:\r\n",
    "            print(' ', end='')\r\n",
    "        else:\r\n",
    "            print('*', end='')\r\n",
    "    \r\n",
    "    for k in range(count - 1):\r\n",
    "        if k < i:\r\n",
    "            print('*', end='')           \r\n",
    "    print()"
   ],
   "outputs": [],
   "metadata": {}
  },
  {
   "cell_type": "markdown",
   "source": [
    "# U22\r\n",
    "- 22.10 심사문제: 2의 거듭제곱 리스트 생성하기<br>\r\n",
    "표준 입력으로 정수 두 개가 입력됩니다(첫 번째 입력 값의 범위는 1~20, 두 번째 입력 값의 범위는 10~30이며 첫 번째 입력 값은 두 번째 입력 값보다 항상 작습니다). 첫 번째 정수부터 두 번째 정수까지를 지수로 하는 2의 거듭제곱 리스트를 출력하는 프로그램을 만드세요(input에서 안내 문자열은 출력하지 않아야 합니다). 단, 리스트의 두 번째 요소와 뒤에서 두 번째 요소는 삭제한 뒤 출력하세요. 출력 결과는 리스트 형태라야 합니다."
   ],
   "metadata": {}
  },
  {
   "cell_type": "code",
   "execution_count": null,
   "source": [
    "first, second = map(int, input().split())\r\n",
    "test = []\r\n",
    "for i in range(first, second+1):\r\n",
    "    test.append(2**i)\r\n",
    "test.pop(1)\r\n",
    "test.pop(-2)\r\n",
    "print(test)"
   ],
   "outputs": [],
   "metadata": {}
  },
  {
   "cell_type": "markdown",
   "source": [
    "# quiz\r\n",
    "- a + b + c = 1000(a < b < c)\r\n",
    "\r\n",
    "- a * a + b * b= c * c 인 피타고라스 수는?"
   ],
   "metadata": {}
  },
  {
   "cell_type": "code",
   "execution_count": 6,
   "source": [
    "for a in range(333):\r\n",
    "    for b in range(a+1, 1000):\r\n",
    "        for c in range(b+1, 1000):\r\n",
    "            if a+b+c == 1000:\r\n",
    "                if a * a + b * b == c * c:\r\n",
    "                    print(a, b, c)\r\n",
    "\r\n",
    "# a > 333 넘을 경우 a,b,c의 합이 1000이 넘으므로 계산 삭제\r\n",
    "# b의 시작 숫자를 a+1 로, c의 시작 숫자를 b+1로해 a< b< c 확인 구문 삭제"
   ],
   "outputs": [
    {
     "output_type": "stream",
     "name": "stdout",
     "text": [
      "200 375 425\n"
     ]
    }
   ],
   "metadata": {}
  },
  {
   "cell_type": "code",
   "execution_count": 5,
   "source": [
    "for a in range(1, 333):\r\n",
    "    for b in range (a+1, 500):\r\n",
    "        c = 1000 - a - b\r\n",
    "        if c * c == a * a + b * b:\r\n",
    "            print (a, b, c)"
   ],
   "outputs": [
    {
     "output_type": "stream",
     "name": "stdout",
     "text": [
      "200 375 425\n"
     ]
    }
   ],
   "metadata": {}
  },
  {
   "cell_type": "markdown",
   "source": [
    "# quiz 2\r\n",
    "- 본인의 생일을 1998 12 15와 같이 년 월 일로 입력받아 오늘 날짜의 만 나이를 구하시오."
   ],
   "metadata": {}
  },
  {
   "cell_type": "code",
   "execution_count": 84,
   "source": [
    "from datetime import date\r\n",
    "today = date.today()\r\n",
    "today.year, today.month, today.day\r\n",
    "\r\n",
    "year, month, day = map(int, input().split())\r\n",
    "\r\n",
    "real = today.year - year\r\n",
    "\r\n",
    "if month > today.month:\r\n",
    "    if day < today.day:\r\n",
    "        print(real - 1)\r\n",
    "else:\r\n",
    "    print(real)\r\n"
   ],
   "outputs": [
    {
     "output_type": "stream",
     "name": "stdout",
     "text": [
      "31\n"
     ]
    }
   ],
   "metadata": {}
  },
  {
   "cell_type": "markdown",
   "source": [
    "# quiz 3\r\n",
    "- 디지털 시계에 하루동안(00:00~ 23:59) 3이 표시되는 시간을 초로 환산하면 총 몇초 일까?\r\n",
    "- 디지털 시계는 하루동안 다음과 같이 시: 분 으로 표시됨 (00:00~23:59)"
   ],
   "metadata": {}
  },
  {
   "cell_type": "code",
   "execution_count": 10,
   "source": [
    "totla_seconds = 0\r\n",
    "for hour in range(24):\r\n",
    "    for min in range(60):\r\n",
    "        time = str(hour) + str(min)\r\n",
    "        if '3' in time:\r\n",
    "            totla_seconds += 60\r\n",
    "print(totla_seconds)\r\n",
    "\r\n",
    "# 3이 표시 될때마다 60초 씩 +"
   ],
   "outputs": [
    {
     "output_type": "stream",
     "name": "stdout",
     "text": [
      "29700\n"
     ]
    }
   ],
   "metadata": {}
  },
  {
   "cell_type": "code",
   "execution_count": null,
   "source": [],
   "outputs": [],
   "metadata": {}
  }
 ],
 "metadata": {
  "orig_nbformat": 4,
  "language_info": {
   "name": "python",
   "version": "3.8.10",
   "mimetype": "text/x-python",
   "codemirror_mode": {
    "name": "ipython",
    "version": 3
   },
   "pygments_lexer": "ipython3",
   "nbconvert_exporter": "python",
   "file_extension": ".py"
  },
  "kernelspec": {
   "name": "python3",
   "display_name": "Python 3.8.10 64-bit ('base': conda)"
  },
  "interpreter": {
   "hash": "20e1214a8bdb2e2c2b34d6c87bb951f9c9d2bc9eb3a38bf18f3ccb00b0b17c39"
  }
 },
 "nbformat": 4,
 "nbformat_minor": 2
}