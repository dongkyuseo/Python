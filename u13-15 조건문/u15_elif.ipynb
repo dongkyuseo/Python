{
 "cells": [
  {
   "cell_type": "markdown",
   "source": [
    "# Unit 15. elif 사용하기"
   ],
   "metadata": {}
  },
  {
   "cell_type": "code",
   "execution_count": 3,
   "source": [
    "x = 15\r\n",
    "if x == 10:\r\n",
    "    print('10입니다.')\r\n",
    "elif x == 20:\r\n",
    "    print('20입니다.')\r\n",
    "else:\r\n",
    "    print('10, 20이 아닙니다.')"
   ],
   "outputs": [
    {
     "output_type": "stream",
     "name": "stdout",
     "text": [
      "10, 20이 아닙니다.\n"
     ]
    }
   ],
   "metadata": {}
  },
  {
   "cell_type": "code",
   "execution_count": 12,
   "source": [
    "# 숫자 - 입력, 3의 배수면 Fizz, 5의 배수면 Buzz, 15의 배수면 FizzBuzz\r\n",
    "\r\n",
    "x = int(input())\r\n",
    "if x % 3 == 0:\r\n",
    "    print('Fizz', end='')\r\n",
    "if x % 5 == 0:\r\n",
    "    print('Buzz')\r\n",
    "else:\r\n",
    "    print(x)"
   ],
   "outputs": [
    {
     "output_type": "stream",
     "name": "stdout",
     "text": [
      "fizzbuzz\n"
     ]
    }
   ],
   "metadata": {}
  },
  {
   "cell_type": "code",
   "execution_count": 15,
   "source": [
    "number = int(input())\r\n",
    "if number % 15 == 0:\r\n",
    "    print('FizzBuzz')\r\n",
    "elif number % 3 == 0:\r\n",
    "    print('Fizz')\r\n",
    "elif number % 5 == 0:\r\n",
    "    print('Buzz')\r\n",
    "else:\r\n",
    "    print(number)"
   ],
   "outputs": [
    {
     "output_type": "stream",
     "name": "stdout",
     "text": [
      "FizzBuzz\n"
     ]
    }
   ],
   "metadata": {}
  },
  {
   "cell_type": "code",
   "execution_count": 14,
   "source": [
    "number = int(input())\r\n",
    "print('Fizz'*(number % 3 == 0)+'Buzz'*(number % 5 == 0) or number)"
   ],
   "outputs": [
    {
     "output_type": "stream",
     "name": "stdout",
     "text": [
      "4\n"
     ]
    }
   ],
   "metadata": {}
  },
  {
   "cell_type": "code",
   "execution_count": null,
   "source": [],
   "outputs": [],
   "metadata": {}
  }
 ],
 "metadata": {
  "orig_nbformat": 4,
  "language_info": {
   "name": "python",
   "version": "3.8.10",
   "mimetype": "text/x-python",
   "codemirror_mode": {
    "name": "ipython",
    "version": 3
   },
   "pygments_lexer": "ipython3",
   "nbconvert_exporter": "python",
   "file_extension": ".py"
  },
  "kernelspec": {
   "name": "python3",
   "display_name": "Python 3.8.10 64-bit ('base': conda)"
  },
  "interpreter": {
   "hash": "20e1214a8bdb2e2c2b34d6c87bb951f9c9d2bc9eb3a38bf18f3ccb00b0b17c39"
  }
 },
 "nbformat": 4,
 "nbformat_minor": 2
}