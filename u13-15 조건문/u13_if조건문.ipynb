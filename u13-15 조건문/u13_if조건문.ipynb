{
 "cells": [
  {
   "cell_type": "markdown",
   "source": [
    "# Unit 13. if조건문으로 특정 조건일 때 코드 실행하기"
   ],
   "metadata": {}
  },
  {
   "cell_type": "markdown",
   "source": [
    "## 13.1 if 조건문 "
   ],
   "metadata": {}
  },
  {
   "cell_type": "code",
   "execution_count": 1,
   "source": [
    "x = 10\r\n",
    "if x == 10:\r\n",
    "    print('10입니다.')"
   ],
   "outputs": [
    {
     "output_type": "stream",
     "name": "stdout",
     "text": [
      "10입니다.\n"
     ]
    }
   ],
   "metadata": {}
  },
  {
   "cell_type": "code",
   "execution_count": 4,
   "source": [
    "# X 가 0이 아니면 참이므로 이후 함수를 실행하게 됨\r\n",
    "x = 10\r\n",
    "if x:\r\n",
    "    print('10입니다.')"
   ],
   "outputs": [
    {
     "output_type": "stream",
     "name": "stdout",
     "text": [
      "10입니다.\n"
     ]
    }
   ],
   "metadata": {}
  },
  {
   "cell_type": "code",
   "execution_count": 6,
   "source": [
    "# pass 는 생략; 추후 코드 생성 예정에 의미, 기능 오류 없게 하기 위함\r\n",
    "x = 10\r\n",
    "if x == 10:\r\n",
    "    pass"
   ],
   "outputs": [],
   "metadata": {}
  },
  {
   "cell_type": "markdown",
   "source": [
    "## 13.2 if조건문과 들여쓰기"
   ],
   "metadata": {}
  },
  {
   "cell_type": "code",
   "execution_count": 9,
   "source": [
    "x = 9\r\n",
    "\r\n",
    "if x == 10:\r\n",
    "    print('x값은')\r\n",
    "    print('10입니다.')\r\n",
    "print('언제나 출력 됩니다.')"
   ],
   "outputs": [
    {
     "output_type": "stream",
     "name": "stdout",
     "text": [
      "언제나 출력 됩니다.\n"
     ]
    }
   ],
   "metadata": {}
  },
  {
   "cell_type": "markdown",
   "source": [
    "## 13.3 중첩 if 조건문"
   ],
   "metadata": {}
  },
  {
   "cell_type": "code",
   "execution_count": 10,
   "source": [
    "x = 15\r\n",
    "if x > 10:\r\n",
    "    print('10보다 큰 숫자 입니다.')\r\n",
    "    if x == 15:\r\n",
    "        print('15 입니다.')\r\n",
    "    if x == 20:\r\n",
    "        print('20 입니다.')"
   ],
   "outputs": [
    {
     "output_type": "stream",
     "name": "stdout",
     "text": [
      "10보다 큰 숫자 입니다.\n",
      "15 입니다.\n"
     ]
    }
   ],
   "metadata": {}
  },
  {
   "cell_type": "code",
   "execution_count": 18,
   "source": [
    "x = int(input('정수를 입력하세요> '))\r\n",
    "if x > 10:\r\n",
    "    print('10보다 큰 숫자 입니다.')\r\n",
    "    if x == 15:\r\n",
    "        print('15 입니다.')\r\n",
    "    if x == 20:\r\n",
    "        print('20 입니다.')"
   ],
   "outputs": [
    {
     "output_type": "stream",
     "name": "stdout",
     "text": [
      "10보다 큰 숫자 입니다.\n"
     ]
    }
   ],
   "metadata": {}
  },
  {
   "cell_type": "code",
   "execution_count": null,
   "source": [],
   "outputs": [],
   "metadata": {}
  }
 ],
 "metadata": {
  "orig_nbformat": 4,
  "language_info": {
   "name": "python",
   "version": "3.8.10",
   "mimetype": "text/x-python",
   "codemirror_mode": {
    "name": "ipython",
    "version": 3
   },
   "pygments_lexer": "ipython3",
   "nbconvert_exporter": "python",
   "file_extension": ".py"
  },
  "kernelspec": {
   "name": "python3",
   "display_name": "Python 3.8.10 64-bit ('base': conda)"
  },
  "interpreter": {
   "hash": "20e1214a8bdb2e2c2b34d6c87bb951f9c9d2bc9eb3a38bf18f3ccb00b0b17c39"
  }
 },
 "nbformat": 4,
 "nbformat_minor": 2
}