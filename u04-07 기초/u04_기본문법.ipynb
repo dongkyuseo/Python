{
  "nbformat": 4,
  "nbformat_minor": 2,
  "metadata": {
    "colab": {
      "name": "u04_기본문법.ipynb",
      "provenance": []
    },
    "kernelspec": {
      "name": "python3",
      "display_name": "Python 3"
    },
    "language_info": {
      "name": "python"
    }
  },
  "cells": [
    {
      "cell_type": "markdown",
      "source": [
        "# Unit 4. 기본문법 알아보기"
      ],
      "metadata": {
        "id": "6Y7cO7lvbQ3H"
      }
    },
    {
      "cell_type": "markdown",
      "source": [
        "## 4.1 세미콜론"
      ],
      "metadata": {
        "id": "4--Ei8w7b0Cw"
      }
    },
    {
      "cell_type": "code",
      "execution_count": 5,
      "source": [
        "print('Hello, World!')"
      ],
      "outputs": [
        {
          "output_type": "stream",
          "name": "stdout",
          "text": [
            "Hello, World!\n"
          ]
        }
      ],
      "metadata": {
        "colab": {
          "base_uri": "https://localhost:8080/"
        },
        "id": "f5CvKMinbW05",
        "outputId": "15df22d4-4a79-4489-d992-56324084af0b"
      }
    },
    {
      "cell_type": "code",
      "execution_count": 6,
      "source": [
        "print('Hello'); print('1234')"
      ],
      "outputs": [
        {
          "output_type": "stream",
          "name": "stdout",
          "text": [
            "Hello\n",
            "1234\n"
          ]
        }
      ],
      "metadata": {
        "colab": {
          "base_uri": "https://localhost:8080/"
        },
        "id": "l4MJO46Ybdu9",
        "outputId": "73ea0da9-1d84-4147-8a90-4958b45ff258"
      }
    },
    {
      "cell_type": "markdown",
      "source": [
        "## 4.2 주석"
      ],
      "metadata": {
        "id": "QACtxpYdbuoA"
      }
    },
    {
      "cell_type": "markdown",
      "source": [
        "### 4.2.1 한 줄 주석"
      ],
      "metadata": {
        "id": "MkYhb2Vjb9uK"
      }
    },
    {
      "cell_type": "code",
      "execution_count": 7,
      "source": [
        "# Hello, World! 출력\r\n",
        "print('Hello, World!')"
      ],
      "outputs": [
        {
          "output_type": "stream",
          "name": "stdout",
          "text": [
            "Hello, World!\n"
          ]
        }
      ],
      "metadata": {
        "colab": {
          "base_uri": "https://localhost:8080/"
        },
        "id": "XjEEmvVlbmzu",
        "outputId": "14bc49c3-cafd-4a30-a4a3-ef3aaedd8b97"
      }
    },
    {
      "cell_type": "code",
      "execution_count": 8,
      "source": [
        "print('Hello, World!')  # comment"
      ],
      "outputs": [
        {
          "output_type": "stream",
          "name": "stdout",
          "text": [
            "Hello, World!\n"
          ]
        }
      ],
      "metadata": {
        "colab": {
          "base_uri": "https://localhost:8080/"
        },
        "id": "gNiM3EbccInS",
        "outputId": "193805a8-cd85-4242-c5c6-eeb612ebd3ef"
      }
    },
    {
      "cell_type": "markdown",
      "source": [
        "### 4.2.2 블록 주석"
      ],
      "metadata": {
        "id": "hDXAJ4WdfGOM"
      }
    },
    {
      "cell_type": "code",
      "execution_count": 9,
      "source": [
        "# 더하기\r\n",
        "# a = 1 + 2\r\n",
        "# print('hello,world')"
      ],
      "outputs": [],
      "metadata": {
        "id": "8UAjVztUcU9S"
      }
    },
    {
      "cell_type": "code",
      "execution_count": 11,
      "source": [
        "#더하기\r\n",
        "'''a=1+2\r\n",
        "print('hello,world!')'''"
      ],
      "outputs": [
        {
          "output_type": "execute_result",
          "data": {
            "text/plain": [
              "\"a=1+2\\nprint('hello,world!')\""
            ],
            "application/vnd.google.colaboratory.intrinsic+json": {
              "type": "string"
            }
          },
          "metadata": {
            "tags": []
          },
          "execution_count": 11
        }
      ],
      "metadata": {
        "colab": {
          "base_uri": "https://localhost:8080/",
          "height": 35
        },
        "id": "DxfBcZFLfNc8",
        "outputId": "c02211c6-be0a-4a67-cd0b-3875f963efcc"
      }
    },
    {
      "cell_type": "code",
      "execution_count": 12,
      "source": [
        "\"\"\"\r\n",
        "이 안에 포함된 내용이 블록 주석\r\n",
        "\"\"\""
      ],
      "outputs": [
        {
          "output_type": "execute_result",
          "data": {
            "text/plain": [
              "'\\n이 안에 포함된 내용이 블록 주석\\n'"
            ],
            "application/vnd.google.colaboratory.intrinsic+json": {
              "type": "string"
            }
          },
          "metadata": {
            "tags": []
          },
          "execution_count": 12
        }
      ],
      "metadata": {
        "colab": {
          "base_uri": "https://localhost:8080/",
          "height": 35
        },
        "id": "kxT9JjFPfTZM",
        "outputId": "6d7a4ceb-3d3f-4809-e228-167cf22d1603"
      }
    },
    {
      "cell_type": "markdown",
      "source": [
        "### 4.3 들여쓰기(indentation)"
      ],
      "metadata": {
        "id": "lnBD3Q3Vinbx"
      }
    },
    {
      "cell_type": "code",
      "execution_count": 13,
      "source": [
        "\"\"\" C 프로그래밍 예\r\n",
        "sum = 0;\r\n",
        "for (i=1; 1<=10; i++) {\r\n",
        "    sum += i;\r\n",
        "}\r\n",
        "printf(sum);\r\n",
        "\"\"\""
      ],
      "outputs": [
        {
          "output_type": "execute_result",
          "data": {
            "text/plain": [
              "' C 프로그래밍 예\\nsum = 0;\\nfor (i=1; 1<=10; i++) {\\n    sum += i;\\n}\\nprintf(sum);\\n'"
            ],
            "application/vnd.google.colaboratory.intrinsic+json": {
              "type": "string"
            }
          },
          "metadata": {
            "tags": []
          },
          "execution_count": 13
        }
      ],
      "metadata": {
        "colab": {
          "base_uri": "https://localhost:8080/",
          "height": 35
        },
        "id": "uk786jkBimfS",
        "outputId": "9a7de3a3-e8f9-4917-9696-a74304b60812"
      }
    },
    {
      "cell_type": "code",
      "execution_count": 14,
      "source": [
        "# 파이썬 예\r\n",
        "sum = 0\r\n",
        "for i in range(1,11):\r\n",
        "    sum += i\r\n",
        "print(sum)"
      ],
      "outputs": [
        {
          "output_type": "stream",
          "name": "stdout",
          "text": [
            "55\n"
          ]
        }
      ],
      "metadata": {
        "colab": {
          "base_uri": "https://localhost:8080/"
        },
        "id": "6PQKoB7UjZcQ",
        "outputId": "e3b0aadf-fb2e-48e3-ac21-5fbe24d876c0"
      }
    },
    {
      "cell_type": "code",
      "execution_count": 15,
      "source": [
        "# 기본 공백 : 공백 4개, 탭/백탭(shift + tab)\r\n",
        "sum = 0\r\n",
        "for i in range(1,11):\r\n",
        "    sum += i\r\n",
        "    if (i >9):\r\n",
        "        print(i)\r\n",
        "print(sum)"
      ],
      "outputs": [
        {
          "output_type": "stream",
          "name": "stdout",
          "text": [
            "10\n",
            "55\n"
          ]
        }
      ],
      "metadata": {
        "colab": {
          "base_uri": "https://localhost:8080/"
        },
        "id": "CX6zcqrfjpv5",
        "outputId": "98b8fddc-374c-479f-c0dd-0d77503243fb"
      }
    },
    {
      "cell_type": "code",
      "execution_count": null,
      "source": [],
      "outputs": [],
      "metadata": {
        "id": "f276K907ksgz"
      }
    }
  ]
}