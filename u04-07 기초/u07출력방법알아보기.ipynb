{
  "nbformat": 4,
  "nbformat_minor": 2,
  "metadata": {
    "colab": {
      "name": "u07출력방법알아보기.ipynb",
      "provenance": [],
      "collapsed_sections": []
    },
    "kernelspec": {
      "name": "python3",
      "display_name": "Python 3"
    },
    "language_info": {
      "name": "python"
    }
  },
  "cells": [
    {
      "cell_type": "markdown",
      "source": [
        "# Unit 7. 출력 방법 알아보기"
      ],
      "metadata": {
        "id": "CkxUgVJrZXOt"
      }
    },
    {
      "cell_type": "markdown",
      "source": [
        "## 7.1 값을 여러 개 출력하기"
      ],
      "metadata": {
        "id": "vNqT9Bh2ZcxV"
      }
    },
    {
      "cell_type": "code",
      "execution_count": 1,
      "source": [
        "a, b = map(int, input('정수 두개 입력> ').split())\r\n",
        "a\r\n",
        "b"
      ],
      "outputs": [
        {
          "output_type": "stream",
          "name": "stdout",
          "text": [
            "정수 두개 입력> 10 20\n"
          ]
        },
        {
          "output_type": "execute_result",
          "data": {
            "text/plain": [
              "20"
            ]
          },
          "metadata": {
            "tags": []
          },
          "execution_count": 1
        }
      ],
      "metadata": {
        "colab": {
          "base_uri": "https://localhost:8080/"
        },
        "id": "wm7iA6D4YwB2",
        "outputId": "986a3ac9-3351-4706-ddcc-f78ec98fae38"
      }
    },
    {
      "cell_type": "code",
      "execution_count": 2,
      "source": [
        "a, b = map(int, input('정수 두개 입력> ').split())\r\n",
        "print(a)\r\n",
        "print(b)"
      ],
      "outputs": [
        {
          "output_type": "stream",
          "name": "stdout",
          "text": [
            "정수 두개 입력> 10 20\n",
            "10\n",
            "20\n"
          ]
        }
      ],
      "metadata": {
        "colab": {
          "base_uri": "https://localhost:8080/"
        },
        "id": "_yRZ3EIuaEmk",
        "outputId": "a1ec66db-975e-4c13-d126-e4f6b79fd85d"
      }
    },
    {
      "cell_type": "code",
      "execution_count": 3,
      "source": [
        "print(a, b)"
      ],
      "outputs": [
        {
          "output_type": "stream",
          "name": "stdout",
          "text": [
            "10 20\n"
          ]
        }
      ],
      "metadata": {
        "colab": {
          "base_uri": "https://localhost:8080/"
        },
        "id": "L0T5ghfIaTPO",
        "outputId": "4f5be40d-c698-48fb-9b17-4f7d8627a409"
      }
    },
    {
      "cell_type": "code",
      "execution_count": 4,
      "source": [
        "print(a, b, sep=', ')"
      ],
      "outputs": [
        {
          "output_type": "stream",
          "name": "stdout",
          "text": [
            "10, 20\n"
          ]
        }
      ],
      "metadata": {
        "colab": {
          "base_uri": "https://localhost:8080/"
        },
        "id": "XJE_snBGappL",
        "outputId": "0f2d38d4-11a9-4bcc-a885-2187c71d44d6"
      }
    },
    {
      "cell_type": "markdown",
      "source": [
        "## 7.2 줄바꿈 활용하기"
      ],
      "metadata": {
        "id": "hIhXtquBbGLd"
      }
    },
    {
      "cell_type": "code",
      "execution_count": 5,
      "source": [
        "print(a, b, sep='\\n')"
      ],
      "outputs": [
        {
          "output_type": "stream",
          "name": "stdout",
          "text": [
            "10\n",
            "20\n"
          ]
        }
      ],
      "metadata": {
        "colab": {
          "base_uri": "https://localhost:8080/"
        },
        "id": "L8l7mawcax5n",
        "outputId": "6856be57-ca24-4bfd-84c6-004ff96964dc"
      }
    },
    {
      "cell_type": "code",
      "execution_count": 7,
      "source": [
        "print(a, b, sep='/\\\\')"
      ],
      "outputs": [
        {
          "output_type": "stream",
          "name": "stdout",
          "text": [
            "10/\\20\n"
          ]
        }
      ],
      "metadata": {
        "colab": {
          "base_uri": "https://localhost:8080/"
        },
        "id": "ny44WK-fbNIc",
        "outputId": "391b1576-1c60-49eb-cfcb-06dc3bfc0368"
      }
    },
    {
      "cell_type": "code",
      "execution_count": 8,
      "source": [
        " print(a)\r\n",
        " print(b)"
      ],
      "outputs": [
        {
          "output_type": "stream",
          "name": "stdout",
          "text": [
            "10\n",
            "20\n"
          ]
        }
      ],
      "metadata": {
        "colab": {
          "base_uri": "https://localhost:8080/"
        },
        "id": "nlyRVgAWbka3",
        "outputId": "c11b444b-7f2d-4460-8db9-069a3fe0970c"
      }
    },
    {
      "cell_type": "code",
      "execution_count": 9,
      "source": [
        "print(a, end=' ')\r\n",
        "print(b)"
      ],
      "outputs": [
        {
          "output_type": "stream",
          "name": "stdout",
          "text": [
            "10 20\n"
          ]
        }
      ],
      "metadata": {
        "colab": {
          "base_uri": "https://localhost:8080/"
        },
        "id": "d7IFGoUccawo",
        "outputId": "cd45364e-ccee-4de5-c885-30db90011e28"
      }
    },
    {
      "cell_type": "code",
      "execution_count": 10,
      "source": [
        "for i in range(5):\r\n",
        "      print(i, end = ' ')"
      ],
      "outputs": [
        {
          "output_type": "stream",
          "name": "stdout",
          "text": [
            "0 1 2 3 4 "
          ]
        }
      ],
      "metadata": {
        "colab": {
          "base_uri": "https://localhost:8080/"
        },
        "id": "H5HL95MgcdtQ",
        "outputId": "ef0cf718-9de3-4fec-c4f0-94d0613a3df9"
      }
    },
    {
      "cell_type": "code",
      "execution_count": null,
      "source": [],
      "outputs": [],
      "metadata": {
        "id": "sgozlMA-cxI1"
      }
    }
  ]
}