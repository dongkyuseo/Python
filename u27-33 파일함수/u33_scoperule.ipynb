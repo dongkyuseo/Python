{
 "cells": [
  {
   "cell_type": "markdown",
   "source": [
    "# 33.변수의 사용 범위(scope rule)"
   ],
   "metadata": {}
  },
  {
   "cell_type": "code",
   "execution_count": 1,
   "source": [
    "x = 10          # 전역 변수\r\n",
    "def foo():\r\n",
    "    print(x)    # 전역 변수 출력\r\n",
    " \r\n",
    "foo()\r\n",
    "print(x)        # 전역 변수 출력"
   ],
   "outputs": [
    {
     "output_type": "stream",
     "name": "stdout",
     "text": [
      "10\n",
      "10\n"
     ]
    }
   ],
   "metadata": {}
  },
  {
   "cell_type": "code",
   "execution_count": null,
   "source": [
    "def foo():\r\n",
    "    x = 10      # foo의 지역 변수\r\n",
    "    print(x)    # foo의 지역 변수 출력\r\n",
    " \r\n",
    "foo()\r\n",
    "print(x)        # 에러. foo의 지역 변수는 출력할 수 없음"
   ],
   "outputs": [],
   "metadata": {}
  },
  {
   "cell_type": "markdown",
   "source": [
    "### 함수안에서 전역 변수 변경하기"
   ],
   "metadata": {}
  },
  {
   "cell_type": "code",
   "execution_count": 2,
   "source": [
    "x = 10          # 전역 변수\r\n",
    "def foo():\r\n",
    "    x = 20      # 로컬 변수\r\n",
    "    print(x)    # 전역 변수 출력\r\n",
    " \r\n",
    "foo()\r\n",
    "print(x)        # 전역 변수 출력"
   ],
   "outputs": [
    {
     "output_type": "stream",
     "name": "stdout",
     "text": [
      "20\n",
      "10\n"
     ]
    }
   ],
   "metadata": {}
  },
  {
   "cell_type": "code",
   "execution_count": 3,
   "source": [
    "x = 10          # 전역 변수\r\n",
    "def foo():\r\n",
    "    global x\r\n",
    "    x = 20      # 로컬 변수\r\n",
    "    print(x)    # 전역 변수 출력\r\n",
    " \r\n",
    "foo()\r\n",
    "print(x)        # 전역 변수 출력"
   ],
   "outputs": [
    {
     "output_type": "stream",
     "name": "stdout",
     "text": [
      "20\n",
      "20\n"
     ]
    }
   ],
   "metadata": {}
  },
  {
   "cell_type": "code",
   "execution_count": 4,
   "source": [
    "def foo():\r\n",
    "    global z\r\n",
    "    z = 10\r\n",
    "    print(z)\r\n",
    "foo()\r\n",
    "print(z)"
   ],
   "outputs": [
    {
     "output_type": "stream",
     "name": "stdout",
     "text": [
      "10\n",
      "10\n"
     ]
    }
   ],
   "metadata": {}
  },
  {
   "cell_type": "code",
   "execution_count": null,
   "source": [],
   "outputs": [],
   "metadata": {}
  }
 ],
 "metadata": {
  "orig_nbformat": 4,
  "language_info": {
   "name": "python",
   "version": "3.8.10",
   "mimetype": "text/x-python",
   "codemirror_mode": {
    "name": "ipython",
    "version": 3
   },
   "pygments_lexer": "ipython3",
   "nbconvert_exporter": "python",
   "file_extension": ".py"
  },
  "kernelspec": {
   "name": "python3",
   "display_name": "Python 3.8.10 64-bit ('base': conda)"
  },
  "interpreter": {
   "hash": "20e1214a8bdb2e2c2b34d6c87bb951f9c9d2bc9eb3a38bf18f3ccb00b0b17c39"
  }
 },
 "nbformat": 4,
 "nbformat_minor": 2
}