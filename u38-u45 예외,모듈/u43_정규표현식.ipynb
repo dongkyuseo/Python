{
 "cells": [
  {
   "cell_type": "markdown",
   "source": [
    "# Unit 43. 정규표현식\r\n",
    "- regexr.com #테스트 페이지\r\n",
    "- 문자열의 패턴을 찾는 것\r\n",
    "- 한글\r\n",
    "1. [^ㄱ - ㅎ, ㅏ - ㅣ , 가- 힣]"
   ],
   "metadata": {}
  },
  {
   "cell_type": "markdown",
   "source": [
    "### 문자열 판단"
   ],
   "metadata": {}
  },
  {
   "cell_type": "code",
   "execution_count": 4,
   "source": [
    "import re\r\n",
    "re.match('Hello', 'Hello, World!')      # 패턴, 문자열"
   ],
   "outputs": [
    {
     "output_type": "execute_result",
     "data": {
      "text/plain": [
       "<re.Match object; span=(0, 5), match='Hello'>"
      ]
     },
     "metadata": {},
     "execution_count": 4
    }
   ],
   "metadata": {}
  },
  {
   "cell_type": "code",
   "execution_count": 5,
   "source": [
    "z = re.match('Hello', 'Hello, World!')\r\n",
    "if z:\r\n",
    "    print('Found!!')\r\n",
    "else:\r\n",
    "    print('Not Found.')"
   ],
   "outputs": [
    {
     "output_type": "stream",
     "name": "stdout",
     "text": [
      "Found!!\n"
     ]
    }
   ],
   "metadata": {}
  },
  {
   "cell_type": "code",
   "execution_count": 7,
   "source": [
    "# match는 시작할때 문자만 찾음\r\n",
    "\r\n",
    "if re.match('World', 'Hello, World!'):\r\n",
    "    print('Found!!')\r\n",
    "else:\r\n",
    "    print('Not Found.')"
   ],
   "outputs": [
    {
     "output_type": "stream",
     "name": "stdout",
     "text": [
      "Not Found.\n"
     ]
    }
   ],
   "metadata": {}
  },
  {
   "cell_type": "code",
   "execution_count": 9,
   "source": [
    "# search는 텍스트 전체에서 찾음\r\n",
    "\r\n",
    "if re.search('World', 'Hello, World!'):\r\n",
    "    print('Found!!')\r\n",
    "else:\r\n",
    "    print('Not Found.')"
   ],
   "outputs": [
    {
     "output_type": "stream",
     "name": "stdout",
     "text": [
      "Found!!\n"
     ]
    }
   ],
   "metadata": {}
  },
  {
   "cell_type": "markdown",
   "source": [
    "## 43.2 범위 판단"
   ],
   "metadata": {}
  },
  {
   "cell_type": "code",
   "execution_count": 17,
   "source": [
    "# 휴대전화 번호 형식\r\n",
    "# pattern = '01[0-9]-[0-9]{4}-[0-9]{4}'      #예전 휴대전화번호\r\n",
    "pattern = '010-[0-9]{4}-[0-9]{4}'      #요즘 휴대전화번호\r\n",
    "text = '010-1234-5678'\r\n",
    "if re.match(pattern, text):\r\n",
    "    print('올바른 휴대전화번호 입니다.')\r\n",
    "else:\r\n",
    "    print('잘못된 휴대전화번호 입니다.')"
   ],
   "outputs": [
    {
     "output_type": "stream",
     "name": "stdout",
     "text": [
      "올바른 휴대전화번호 입니다.\n"
     ]
    }
   ],
   "metadata": {}
  },
  {
   "cell_type": "code",
   "execution_count": 25,
   "source": [
    "# 한글패턴\r\n",
    "hangul = '[ㄱ-ㅎ ㅏ-ㅣ 가-힣]+'\r\n",
    "text = 'hong'\r\n",
    "if re.search(hangul, text):\r\n",
    "    print('한글이 있습니다.')\r\n",
    "else:\r\n",
    "    print('한글이 없습니다.')"
   ],
   "outputs": [
    {
     "output_type": "stream",
     "name": "stdout",
     "text": [
      "한글이 없습니다.\n"
     ]
    }
   ],
   "metadata": {}
  },
  {
   "cell_type": "markdown",
   "source": [
    "## 43.4 문자열 바꾸기"
   ],
   "metadata": {}
  },
  {
   "cell_type": "code",
   "execution_count": 26,
   "source": [
    "re.sub('apple|orange', 'fruit', 'apple box orange tree')    # apple 또는 orange를 fruit로 바꿈"
   ],
   "outputs": [
    {
     "output_type": "execute_result",
     "data": {
      "text/plain": [
       "'fruit box fruit tree'"
      ]
     },
     "metadata": {},
     "execution_count": 26
    }
   ],
   "metadata": {}
  },
  {
   "cell_type": "code",
   "execution_count": 27,
   "source": [
    "re.sub('[0-9]+', 'n', '1 2 Fizz 4 Buzz Fizz 7 8 Fizz Buzz 11 12')"
   ],
   "outputs": [
    {
     "output_type": "execute_result",
     "data": {
      "text/plain": [
       "'n n Fizz n Buzz Fizz n n Fizz Buzz n n'"
      ]
     },
     "metadata": {},
     "execution_count": 27
    }
   ],
   "metadata": {}
  },
  {
   "cell_type": "code",
   "execution_count": 28,
   "source": [
    "re.sub('[0-9]', 'n', '1 2 Fizz 4 Buzz Fizz 7 8 Fizz Buzz 11 12')"
   ],
   "outputs": [
    {
     "output_type": "execute_result",
     "data": {
      "text/plain": [
       "'n n Fizz n Buzz Fizz n n Fizz Buzz nn nn'"
      ]
     },
     "metadata": {},
     "execution_count": 28
    }
   ],
   "metadata": {}
  },
  {
   "cell_type": "code",
   "execution_count": 39,
   "source": [
    "text = '''참고 | raw 문자열 사용하기\r\n",
    "정규표현식의 특수 문자를 판단하려면 \\를 붙여야 합니다. \r\n",
    "여기서 문자열 앞에 r을 붙여주면 원시(raw) 문자열이 되어 \\를 붙이지 않아도 특수 문자를 그대로 판단할 수 있습니다.\r\n",
    "따라서 raw 문자열에서는 \\\\숫자, \\\\g<이름>, \\\\g<숫자>는 \\숫자, \\g<이름>, \\g<숫자> 형식처럼 \\를 하나만 붙여서 사용할 수 있습니다.'''"
   ],
   "outputs": [],
   "metadata": {}
  },
  {
   "cell_type": "code",
   "execution_count": 40,
   "source": [
    "not_hangul = '[^ㄱ-ㅎ ㅏ-ㅣ 가-힣]'\r\n",
    "text = re.sub(not_hangul, '', text)\r\n",
    "text"
   ],
   "outputs": [
    {
     "output_type": "execute_result",
     "data": {
      "text/plain": [
       "'참고   문자열 사용하기정규표현식의 특수 문자를 판단하려면 를 붙여야 합니다 여기서 문자열 앞에 을 붙여주면 원시 문자열이 되어 를 붙이지 않아도 특수 문자를 그대로 판단할 수 있습니다따라서  문자열에서는 숫자 이름 숫자는 숫자 이름 숫자 형식처럼 를 하나만 붙여서 사용할 수 있습니다'"
      ]
     },
     "metadata": {},
     "execution_count": 40
    }
   ],
   "metadata": {}
  },
  {
   "cell_type": "markdown",
   "source": [
    "### 이메일주소 검사하기"
   ],
   "metadata": {}
  },
  {
   "cell_type": "code",
   "execution_count": 42,
   "source": [
    "import re\r\n",
    " \r\n",
    "p = re.compile('^[a-zA-Z0-9+-_.]+@[a-zA-Z0-9-]+\\.[a-zA-Z0-9-.]+$')\r\n",
    "emails = ['python@mail.example.com', 'python+kr@example.com',              # 올바른 형식\r\n",
    "          'python-dojang@example.co.kr', 'python_10@example.info',         # 올바른 형식\r\n",
    "          'python.dojang@e-xample.com',                                    # 올바른 형식\r\n",
    "          '@example.com', 'python@example', 'python@example-com']          # 잘못된 형식\r\n",
    " \r\n",
    "for email in emails:\r\n",
    "    print(p.match(email) != None, end=' ')"
   ],
   "outputs": [
    {
     "output_type": "stream",
     "name": "stdout",
     "text": [
      "True True True True True False False False "
     ]
    }
   ],
   "metadata": {}
  },
  {
   "cell_type": "code",
   "execution_count": null,
   "source": [],
   "outputs": [],
   "metadata": {}
  }
 ],
 "metadata": {
  "orig_nbformat": 4,
  "language_info": {
   "name": "python",
   "version": "3.8.10",
   "mimetype": "text/x-python",
   "codemirror_mode": {
    "name": "ipython",
    "version": 3
   },
   "pygments_lexer": "ipython3",
   "nbconvert_exporter": "python",
   "file_extension": ".py"
  },
  "kernelspec": {
   "name": "python3",
   "display_name": "Python 3.8.10 64-bit ('base': conda)"
  },
  "interpreter": {
   "hash": "20e1214a8bdb2e2c2b34d6c87bb951f9c9d2bc9eb3a38bf18f3ccb00b0b17c39"
  }
 },
 "nbformat": 4,
 "nbformat_minor": 2
}