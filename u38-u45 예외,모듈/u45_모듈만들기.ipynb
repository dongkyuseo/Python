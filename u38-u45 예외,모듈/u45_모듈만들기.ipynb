{
 "cells": [
  {
   "cell_type": "markdown",
   "source": [
    "# Unit 45. 모듈만들기"
   ],
   "metadata": {}
  },
  {
   "cell_type": "markdown",
   "source": [
    "### 함수와 변수"
   ],
   "metadata": {}
  },
  {
   "cell_type": "code",
   "execution_count": 8,
   "source": [
    "import u45_square2 as sq\r\n",
    "\r\n",
    "print(sq.base)\r\n",
    "print(sq.square(10))"
   ],
   "outputs": [
    {
     "output_type": "stream",
     "name": "stdout",
     "text": [
      "2\n",
      "1024\n"
     ]
    }
   ],
   "metadata": {}
  },
  {
   "cell_type": "code",
   "execution_count": 9,
   "source": [
    "!ls -l"
   ],
   "outputs": [
    {
     "output_type": "stream",
     "name": "stderr",
     "text": [
      "'ls'��(��) ���� �Ǵ� �ܺ� ����, ������ �� �ִ� ���α׷�, �Ǵ�\n",
      "��ġ ������ �ƴմϴ�.\n"
     ]
    }
   ],
   "metadata": {}
  },
  {
   "cell_type": "code",
   "execution_count": 10,
   "source": [
    "# list\r\n",
    "# ! - shell escape를통해 ls -l __pycache__ 명령을 실행\r\n",
    "!ls -l __pycache__"
   ],
   "outputs": [
    {
     "output_type": "stream",
     "name": "stderr",
     "text": [
      "'ls'��(��) ���� �Ǵ� �ܺ� ����, ������ �� �ִ� ���α׷�, �Ǵ�\n",
      "��ġ ������ �ƴմϴ�.\n"
     ]
    }
   ],
   "metadata": {}
  },
  {
   "cell_type": "markdown",
   "source": [
    "### 클래스"
   ],
   "metadata": {}
  },
  {
   "cell_type": "code",
   "execution_count": 12,
   "source": [
    "from u45_person import Person\r\n",
    "\r\n",
    "maria = Person('마리아', 25, '서울')\r\n",
    "maria.greeting"
   ],
   "outputs": [
    {
     "output_type": "execute_result",
     "data": {
      "text/plain": [
       "<bound method Person.greeting of <u45_person.Person object at 0x000002DA483F53A0>>"
      ]
     },
     "metadata": {},
     "execution_count": 12
    }
   ],
   "metadata": {}
  },
  {
   "cell_type": "code",
   "execution_count": null,
   "source": [
    "# 모듈을 새로 수정하였을때 사용할 것\r\n",
    "# !rm __pycache__/*"
   ],
   "outputs": [],
   "metadata": {}
  },
  {
   "cell_type": "markdown",
   "source": [
    "## 45.2 모듈과 시작점"
   ],
   "metadata": {}
  },
  {
   "cell_type": "code",
   "execution_count": 13,
   "source": [
    "!python u45_square2.py"
   ],
   "outputs": [
    {
     "output_type": "stream",
     "name": "stdout",
     "text": [
      "2\n",
      "1024\n"
     ]
    }
   ],
   "metadata": {}
  },
  {
   "cell_type": "code",
   "execution_count": 14,
   "source": [
    "__name__"
   ],
   "outputs": [
    {
     "output_type": "execute_result",
     "data": {
      "text/plain": [
       "'__main__'"
      ]
     },
     "metadata": {},
     "execution_count": 14
    }
   ],
   "metadata": {}
  },
  {
   "cell_type": "code",
   "execution_count": 15,
   "source": [
    "import u45_hello"
   ],
   "outputs": [
    {
     "output_type": "stream",
     "name": "stdout",
     "text": [
      "hello 모듈 시작\n",
      "hello.py __name__ u45_hello\n",
      "hello 모듈 끝\n"
     ]
    }
   ],
   "metadata": {}
  },
  {
   "cell_type": "code",
   "execution_count": 16,
   "source": [
    "!python u45_hello.py"
   ],
   "outputs": [
    {
     "output_type": "stream",
     "name": "stdout",
     "text": [
      "hello 모듈 시작\n",
      "hello.py __name__ __main__\n",
      "hello 모듈 끝\n"
     ]
    }
   ],
   "metadata": {}
  },
  {
   "cell_type": "code",
   "execution_count": 17,
   "source": [
    "!mkdir bank"
   ],
   "outputs": [
    {
     "output_type": "stream",
     "name": "stderr",
     "text": [
      "���� ���͸� �Ǵ� ���� bank��(��) �̹� �ֽ��ϴ�.\n"
     ]
    }
   ],
   "metadata": {}
  },
  {
   "cell_type": "code",
   "execution_count": 22,
   "source": [
    "from bank.u45_util import Account\r\n",
    "\r\n",
    "james = Account('123456', '제임스', 1000000)"
   ],
   "outputs": [
    {
     "output_type": "error",
     "ename": "ImportError",
     "evalue": "cannot import name 'Account' from 'bank.u45_util' (d:\\Workspace\\01.PythonProgramming\\u38-u45 예외,모듈\\bank\\u45_util.py)",
     "traceback": [
      "\u001b[1;31m---------------------------------------------------------------------------\u001b[0m",
      "\u001b[1;31mImportError\u001b[0m                               Traceback (most recent call last)",
      "\u001b[1;32m<ipython-input-22-bf65edca39a7>\u001b[0m in \u001b[0;36m<module>\u001b[1;34m\u001b[0m\n\u001b[1;32m----> 1\u001b[1;33m \u001b[1;32mfrom\u001b[0m \u001b[0mbank\u001b[0m\u001b[1;33m.\u001b[0m\u001b[0mu45_util\u001b[0m \u001b[1;32mimport\u001b[0m \u001b[0mAccount\u001b[0m\u001b[1;33m\u001b[0m\u001b[1;33m\u001b[0m\u001b[0m\n\u001b[0m\u001b[0;32m      2\u001b[0m \u001b[1;33m\u001b[0m\u001b[0m\n\u001b[0;32m      3\u001b[0m \u001b[0mjames\u001b[0m \u001b[1;33m=\u001b[0m \u001b[0mAccount\u001b[0m\u001b[1;33m(\u001b[0m\u001b[1;34m'123456'\u001b[0m\u001b[1;33m,\u001b[0m \u001b[1;34m'제임스'\u001b[0m\u001b[1;33m,\u001b[0m \u001b[1;36m1000000\u001b[0m\u001b[1;33m)\u001b[0m\u001b[1;33m\u001b[0m\u001b[1;33m\u001b[0m\u001b[0m\n",
      "\u001b[1;31mImportError\u001b[0m: cannot import name 'Account' from 'bank.u45_util' (d:\\Workspace\\01.PythonProgramming\\u38-u45 예외,모듈\\bank\\u45_util.py)"
     ]
    }
   ],
   "metadata": {}
  },
  {
   "cell_type": "code",
   "execution_count": null,
   "source": [],
   "outputs": [],
   "metadata": {}
  }
 ],
 "metadata": {
  "orig_nbformat": 4,
  "language_info": {
   "name": "python",
   "version": "3.8.10",
   "mimetype": "text/x-python",
   "codemirror_mode": {
    "name": "ipython",
    "version": 3
   },
   "pygments_lexer": "ipython3",
   "nbconvert_exporter": "python",
   "file_extension": ".py"
  },
  "kernelspec": {
   "name": "python3",
   "display_name": "Python 3.8.10 64-bit ('base': conda)"
  },
  "interpreter": {
   "hash": "20e1214a8bdb2e2c2b34d6c87bb951f9c9d2bc9eb3a38bf18f3ccb00b0b17c39"
  }
 },
 "nbformat": 4,
 "nbformat_minor": 2
}