{
 "cells": [
  {
   "cell_type": "markdown",
   "source": [
    "# Unit 38. 예외처리"
   ],
   "metadata": {}
  },
  {
   "cell_type": "markdown",
   "source": [
    "## 38.1 try except"
   ],
   "metadata": {}
  },
  {
   "cell_type": "code",
   "execution_count": 3,
   "source": [
    "a = [1,2,3]\r\n",
    "try:\r\n",
    "    a[4]\r\n",
    "except:\r\n",
    "    print('예외 발생')"
   ],
   "outputs": [
    {
     "output_type": "stream",
     "name": "stdout",
     "text": [
      "예외 발생\n"
     ]
    }
   ],
   "metadata": {}
  },
  {
   "cell_type": "markdown",
   "source": [
    "### 특정 예외만 처리하기"
   ],
   "metadata": {}
  },
  {
   "cell_type": "code",
   "execution_count": 4,
   "source": [
    "a = [1,2,3]\r\n",
    "try:\r\n",
    "    int('10d')\r\n",
    "except ZeroDivisionError:\r\n",
    "    print('0으로 나눌 수 없습니다.')\r\n",
    "except IndexError:\r\n",
    "    print('Index Error 발생')\r\n",
    "except ValueError:\r\n",
    "    print('ValuesError 발생')"
   ],
   "outputs": [
    {
     "output_type": "stream",
     "name": "stdout",
     "text": [
      "ValuesError 발생\n"
     ]
    }
   ],
   "metadata": {}
  },
  {
   "cell_type": "markdown",
   "source": [
    "### 모든 예외 처리하기\r\n",
    "- 예외의 에러 메시지 받아오기"
   ],
   "metadata": {}
  },
  {
   "cell_type": "code",
   "execution_count": 7,
   "source": [
    "try:\r\n",
    "    a[10]\r\n",
    "except Exception as e:    # 모든 예외의 에러 메시지를 출력할 때는 Exception을 사용, alias\r\n",
    "    print('예외가 발생했습니다.', e)"
   ],
   "outputs": [
    {
     "output_type": "stream",
     "name": "stdout",
     "text": [
      "예외가 발생했습니다. list index out of range\n"
     ]
    }
   ],
   "metadata": {}
  },
  {
   "cell_type": "markdown",
   "source": [
    "## 38.2 else-finally"
   ],
   "metadata": {}
  },
  {
   "cell_type": "code",
   "execution_count": 10,
   "source": [
    "try:\r\n",
    "    x = int(input('나눌 숫자 입력> '))\r\n",
    "    y = 10 / x\r\n",
    "except Exception as e:\r\n",
    "    print(e)\r\n",
    "else:\r\n",
    "    print(y)"
   ],
   "outputs": [
    {
     "output_type": "stream",
     "name": "stdout",
     "text": [
      "invalid literal for int() with base 10: 'h'\n"
     ]
    }
   ],
   "metadata": {}
  },
  {
   "cell_type": "markdown",
   "source": [
    "### 예외와 상관없이 항상 실행"
   ],
   "metadata": {}
  },
  {
   "cell_type": "code",
   "execution_count": 12,
   "source": [
    "try:\r\n",
    "    x = int(input('나눌 숫자 입력> '))\r\n",
    "    y = 10 / x\r\n",
    "except Exception as e:\r\n",
    "    print(e)\r\n",
    "else:\r\n",
    "    print(y)\r\n",
    "finally:\r\n",
    "    print('코드 실행이 끝났습니다.')"
   ],
   "outputs": [
    {
     "output_type": "stream",
     "name": "stdout",
     "text": [
      "invalid literal for int() with base 10: 'ㅎ'\n",
      "코드 실행이 끝났습니다.\n"
     ]
    }
   ],
   "metadata": {}
  },
  {
   "cell_type": "markdown",
   "source": [
    "## 38.3 예외 발생시키기"
   ],
   "metadata": {}
  },
  {
   "cell_type": "code",
   "execution_count": 17,
   "source": [
    "import random\r\n",
    "try:\r\n",
    "    x = random.randint(1, 10)\r\n",
    "    print(x)\r\n",
    "    if x % 3 != 0:\r\n",
    "        raise Exception('3의 배수가 아님')\r\n",
    "except Exception as e:\r\n",
    "    print('예외 발생 -', e)\r\n"
   ],
   "outputs": [
    {
     "output_type": "stream",
     "name": "stdout",
     "text": [
      "8\n",
      "예외 발생 - 3의 배수가 아님\n"
     ]
    }
   ],
   "metadata": {}
  },
  {
   "cell_type": "code",
   "execution_count": 19,
   "source": [
    "def multiple11(x):\r\n",
    "    if x % 11 != 0:\r\n",
    "    \r\n",
    "        raise Exception('11의 배수가 아님')\r\n",
    "    print(x)\r\n",
    "    "
   ],
   "outputs": [],
   "metadata": {}
  },
  {
   "cell_type": "code",
   "execution_count": null,
   "source": [],
   "outputs": [],
   "metadata": {}
  }
 ],
 "metadata": {
  "orig_nbformat": 4,
  "language_info": {
   "name": "python",
   "version": "3.8.10",
   "mimetype": "text/x-python",
   "codemirror_mode": {
    "name": "ipython",
    "version": 3
   },
   "pygments_lexer": "ipython3",
   "nbconvert_exporter": "python",
   "file_extension": ".py"
  },
  "kernelspec": {
   "name": "python3",
   "display_name": "Python 3.8.10 64-bit ('base': conda)"
  },
  "interpreter": {
   "hash": "20e1214a8bdb2e2c2b34d6c87bb951f9c9d2bc9eb3a38bf18f3ccb00b0b17c39"
  }
 },
 "nbformat": 4,
 "nbformat_minor": 2
}